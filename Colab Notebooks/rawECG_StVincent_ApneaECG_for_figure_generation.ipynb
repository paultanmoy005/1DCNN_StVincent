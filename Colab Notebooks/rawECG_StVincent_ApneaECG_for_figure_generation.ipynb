{
  "cells": [
    {
      "cell_type": "markdown",
      "metadata": {
        "id": "view-in-github",
        "colab_type": "text"
      },
      "source": [
        "<a href=\"https://colab.research.google.com/github/paultanmoy005/1DCNN_StVincent/blob/main/Colab%20Notebooks/rawECG_StVincent_ApneaECG_for_figure_generation.ipynb\" target=\"_parent\"><img src=\"https://colab.research.google.com/assets/colab-badge.svg\" alt=\"Open In Colab\"/></a>"
      ]
    },
    {
      "cell_type": "markdown",
      "metadata": {
        "id": "TyetDNK8DXJs"
      },
      "source": [
        "**This notebook combines both St. Vincent and ApneaECG ECG dataset**"
      ]
    },
    {
      "cell_type": "code",
      "execution_count": null,
      "metadata": {
        "colab": {
          "base_uri": "https://localhost:8080/"
        },
        "id": "wIY_Btgmr0ly",
        "outputId": "13db85a1-2547-4b09-b5a3-f84a90ab6ebc"
      },
      "outputs": [
        {
          "name": "stdout",
          "output_type": "stream",
          "text": [
            "Looking in indexes: https://pypi.org/simple, https://us-python.pkg.dev/colab-wheels/public/simple/\n",
            "Collecting wfdb\n",
            "  Downloading wfdb-4.1.1-py3-none-any.whl (159 kB)\n",
            "\u001b[2K     \u001b[90m━━━━━━━━━━━━━━━━━━━━━━━━━━━━━━━━━━━━━━━\u001b[0m \u001b[32m159.9/159.9 kB\u001b[0m \u001b[31m4.9 MB/s\u001b[0m eta \u001b[36m0:00:00\u001b[0m\n",
            "\u001b[?25hRequirement already satisfied: matplotlib>=3.2.2 in /usr/local/lib/python3.9/dist-packages (from wfdb) (3.7.1)\n",
            "Requirement already satisfied: scipy>=1.0.0 in /usr/local/lib/python3.9/dist-packages (from wfdb) (1.10.1)\n",
            "Requirement already satisfied: SoundFile>=0.10.0 in /usr/local/lib/python3.9/dist-packages (from wfdb) (0.12.1)\n",
            "Requirement already satisfied: numpy>=1.10.1 in /usr/local/lib/python3.9/dist-packages (from wfdb) (1.22.4)\n",
            "Requirement already satisfied: requests>=2.8.1 in /usr/local/lib/python3.9/dist-packages (from wfdb) (2.27.1)\n",
            "Requirement already satisfied: pandas>=1.3.0 in /usr/local/lib/python3.9/dist-packages (from wfdb) (1.5.3)\n",
            "Requirement already satisfied: cycler>=0.10 in /usr/local/lib/python3.9/dist-packages (from matplotlib>=3.2.2->wfdb) (0.11.0)\n",
            "Requirement already satisfied: contourpy>=1.0.1 in /usr/local/lib/python3.9/dist-packages (from matplotlib>=3.2.2->wfdb) (1.0.7)\n",
            "Requirement already satisfied: fonttools>=4.22.0 in /usr/local/lib/python3.9/dist-packages (from matplotlib>=3.2.2->wfdb) (4.39.3)\n",
            "Requirement already satisfied: pillow>=6.2.0 in /usr/local/lib/python3.9/dist-packages (from matplotlib>=3.2.2->wfdb) (8.4.0)\n",
            "Requirement already satisfied: kiwisolver>=1.0.1 in /usr/local/lib/python3.9/dist-packages (from matplotlib>=3.2.2->wfdb) (1.4.4)\n",
            "Requirement already satisfied: pyparsing>=2.3.1 in /usr/local/lib/python3.9/dist-packages (from matplotlib>=3.2.2->wfdb) (3.0.9)\n",
            "Requirement already satisfied: python-dateutil>=2.7 in /usr/local/lib/python3.9/dist-packages (from matplotlib>=3.2.2->wfdb) (2.8.2)\n",
            "Requirement already satisfied: importlib-resources>=3.2.0 in /usr/local/lib/python3.9/dist-packages (from matplotlib>=3.2.2->wfdb) (5.12.0)\n",
            "Requirement already satisfied: packaging>=20.0 in /usr/local/lib/python3.9/dist-packages (from matplotlib>=3.2.2->wfdb) (23.1)\n",
            "Requirement already satisfied: pytz>=2020.1 in /usr/local/lib/python3.9/dist-packages (from pandas>=1.3.0->wfdb) (2022.7.1)\n",
            "Requirement already satisfied: charset-normalizer~=2.0.0 in /usr/local/lib/python3.9/dist-packages (from requests>=2.8.1->wfdb) (2.0.12)\n",
            "Requirement already satisfied: idna<4,>=2.5 in /usr/local/lib/python3.9/dist-packages (from requests>=2.8.1->wfdb) (3.4)\n",
            "Requirement already satisfied: urllib3<1.27,>=1.21.1 in /usr/local/lib/python3.9/dist-packages (from requests>=2.8.1->wfdb) (1.26.15)\n",
            "Requirement already satisfied: certifi>=2017.4.17 in /usr/local/lib/python3.9/dist-packages (from requests>=2.8.1->wfdb) (2022.12.7)\n",
            "Requirement already satisfied: cffi>=1.0 in /usr/local/lib/python3.9/dist-packages (from SoundFile>=0.10.0->wfdb) (1.15.1)\n",
            "Requirement already satisfied: pycparser in /usr/local/lib/python3.9/dist-packages (from cffi>=1.0->SoundFile>=0.10.0->wfdb) (2.21)\n",
            "Requirement already satisfied: zipp>=3.1.0 in /usr/local/lib/python3.9/dist-packages (from importlib-resources>=3.2.0->matplotlib>=3.2.2->wfdb) (3.15.0)\n",
            "Requirement already satisfied: six>=1.5 in /usr/local/lib/python3.9/dist-packages (from python-dateutil>=2.7->matplotlib>=3.2.2->wfdb) (1.16.0)\n",
            "Installing collected packages: wfdb\n",
            "Successfully installed wfdb-4.1.1\n"
          ]
        }
      ],
      "source": [
        "!pip3 install wfdb"
      ]
    },
    {
      "cell_type": "code",
      "execution_count": null,
      "metadata": {
        "id": "PQQHgTVbKugD"
      },
      "outputs": [],
      "source": [
        "# import the libraries \n",
        "import pandas as pd\n",
        "import tensorflow as tf\n",
        "import numpy as np\n",
        "from sklearn.preprocessing import MinMaxScaler, StandardScaler, LabelEncoder, LabelBinarizer, label_binarize\n",
        "from sklearn.model_selection import train_test_split\n",
        "from keras import regularizers, initializers\n",
        "from keras.layers import *\n",
        "from keras.constraints import *\n",
        "from keras.models import Sequential, load_model\n",
        "from sklearn.metrics import *\n",
        "from matplotlib import pyplot\n",
        "from keras import backend as K\n",
        "from matplotlib import pyplot as plt\n",
        "from imblearn.over_sampling import RandomOverSampler, SMOTE\n",
        "from google.colab import drive\n",
        "from copy import deepcopy\n",
        "from keras.models import Model\n",
        "import wfdb"
      ]
    },
    {
      "cell_type": "code",
      "execution_count": null,
      "metadata": {
        "colab": {
          "base_uri": "https://localhost:8080/"
        },
        "id": "Bicaet_iLAeB",
        "outputId": "88fe67f8-ffe1-425c-d579-2a33e731e55e"
      },
      "outputs": [
        {
          "name": "stdout",
          "output_type": "stream",
          "text": [
            "Mounted at /content/drive\n"
          ]
        }
      ],
      "source": [
        "# mount the data drive\n",
        "drive.mount('/content/drive')\n",
        "path = '/content/drive/My Drive/Apnea Data/St. Vincent Hospital/RawECGandAnnot_12Sec_10Thresh.csv'"
      ]
    },
    {
      "cell_type": "code",
      "execution_count": null,
      "metadata": {
        "id": "oFfefby1L2Jn"
      },
      "outputs": [],
      "source": [
        "# read the data\n",
        "data = pd.read_csv(path,header=None)\n",
        "x = data.iloc[:,0:1536]\n",
        "y = data.iloc[:,1536]"
      ]
    },
    {
      "cell_type": "code",
      "execution_count": null,
      "metadata": {
        "id": "TAO06LY5SfYp"
      },
      "outputs": [],
      "source": [
        "# Record name for ApneaECG dataset\n",
        "path = '/content/drive/My Drive/Apnea Data/apnea-ecg-database-1.0.0/'\n",
        "A1 = [\"a0%d\" %i for i in range(1,10)]\n",
        "A2 = [\"a%d\" %i for i in range(10,21)]\n",
        "B = [\"b0%d\" %i for i in range(1,6)]\n",
        "C = [\"c0%d\" %i for i in range(1,10)]\n",
        "X1 = [\"x0%d\" %i for i in range(1,10)]\n",
        "X2 = [\"x%d\" %i for i in range(10,36)]\n",
        "Record = [A1 + A2 + B + C + [\"c10\"] + X1 + X2][0]"
      ]
    },
    {
      "cell_type": "code",
      "execution_count": null,
      "metadata": {
        "id": "PZ8zBhZWXn7F"
      },
      "outputs": [],
      "source": [
        "# def rriCalculation(start, end):\n",
        "#     rpeaksSlice = [j for j in rpeaks if j >= start and j < end]\n",
        "#     RRI = [rpeaksSlice[i + 1] - rpeaksSlice[i] for i in range(len(rpeaksSlice) - 1)]\n",
        "#     return RRI\n",
        "\n",
        "# storeAll = []\n",
        "# for record in Record[:35]:\n",
        "#   fileIn = path + record\n",
        "#   annotQrs = wfdb.io.rdann(fileIn, 'qrs')\n",
        "#   rpeaks = annotQrs.sample\n",
        "#   annot_apnea = wfdb.io.rdann(fileIn, 'apn')\n",
        "#   annotation = annot_apnea.symbol\n",
        "#   count = 0\n",
        "#   fs = 100\n",
        "#   interval = 6000\n",
        "#   procWindow = 30*fs\n",
        "#   # we will take the 30 second segment based on three conditions:\n",
        "#   # 1. Whether it is from the first minute of the entire recording\n",
        "#   # 2. Whether it is from the last minute of the entire recording\n",
        "#   # 3. Whether it is from any other minute\n",
        "#   while count < len(annotation):\n",
        "#     if count == 0 or count != len(annotation)-1:\n",
        "#       start1 = interval * count\n",
        "#       end1 = start1 + procWindow\n",
        "#       rri = rriCalculation(start1, end1)\n",
        "#       storeAll.append(rri)\n",
        "#     count += 1"
      ]
    },
    {
      "cell_type": "code",
      "execution_count": null,
      "metadata": {
        "colab": {
          "base_uri": "https://localhost:8080/"
        },
        "id": "TNneOiFRShTG",
        "outputId": "ce39c3e4-eb80-421f-b038-016cbe9140cc"
      },
      "outputs": [
        {
          "name": "stdout",
          "output_type": "stream",
          "text": [
            "Total number of Training Segment: 17035\n",
            "Total number of Testing Segment: 17263\n"
          ]
        }
      ],
      "source": [
        "# segmentation of the signal into segments of 15s\n",
        "storeSegment = []\n",
        "storeAnnotation = []\n",
        "minute = 6000\n",
        "fs = 100\n",
        "segmentLength = int(15.36*fs)\n",
        "for record in Record:\n",
        "  fileIn = path + record\n",
        "  annot_apnea = wfdb.io.rdann(fileIn, 'apn')\n",
        "  annotation = annot_apnea.symbol\n",
        "  signal, info= wfdb.io.rdsamp(fileIn)\n",
        "  for j in range(len(annotation)):\n",
        "    minuteSignal = signal[j*minute:j*minute+minute].ravel()\n",
        "    windowSignal = list(minuteSignal[:segmentLength])\n",
        "    if len(windowSignal)==segmentLength:\n",
        "      storeSegment.append(windowSignal)\n",
        "      storeAnnotation += annotation[j]\n",
        "  if record == 'c10':\n",
        "    trainLen = len(storeSegment)\n",
        "    print(f'Total number of Training Segment: {trainLen}')\n",
        "  if record == 'x35':\n",
        "    print(f'Total number of Testing Segment: {len(storeSegment)-trainLen}')"
      ]
    },
    {
      "cell_type": "code",
      "execution_count": null,
      "metadata": {
        "id": "5eZr-ygjmpss"
      },
      "outputs": [],
      "source": [
        "storeAnnotation = [0 if i=='N' else 1 for i in storeAnnotation]\n",
        "for i in range(x.shape[0]):\n",
        "  storeSegment.append(list(x.iloc[i,:]))\n",
        "  storeAnnotation.append(y[i])"
      ]
    },
    {
      "cell_type": "code",
      "execution_count": null,
      "metadata": {
        "id": "RnwUahZ2NtjS"
      },
      "outputs": [],
      "source": [
        "# # Normalize the entire dataset, resample and split the set into train and test set\n",
        "scale = StandardScaler()\n",
        "x = scale.fit_transform(storeSegment)\n",
        "# ros = RandomOverSampler(random_state =2)\n",
        "sm = SMOTE(random_state = 42)\n",
        "x, y = sm.fit_resample(x,storeAnnotation)\n",
        "#del storeSegment \n",
        "#del storeAnnotation\n",
        "xTrainFinal, xTestFinal, yTrainFinal, yTestFinal = train_test_split(x, y, test_size = 0.1, random_state=42)\n",
        "xTrainFinal, xValFinal, yTrainFinal, yValFinal = train_test_split(xTrainFinal, yTrainFinal, test_size = 0.1, random_state=42)"
      ]
    },
    {
      "cell_type": "code",
      "execution_count": null,
      "metadata": {
        "colab": {
          "base_uri": "https://localhost:8080/"
        },
        "id": "yuKTnXKmOPYy",
        "outputId": "96abaa32-a576-4885-dfb0-82943011d6db"
      },
      "outputs": [
        {
          "name": "stdout",
          "output_type": "stream",
          "text": [
            "There are a total of 54311 and 54160 class\n"
          ]
        }
      ],
      "source": [
        "#check the class distribution\n",
        "apnea = len(np.where(np.array(yTrainFinal)==1)[0])\n",
        "normal = len(np.where(np.array(yTrainFinal)==0)[0])\n",
        "print(f'There are a total of {apnea} and {normal} class')"
      ]
    },
    {
      "cell_type": "code",
      "execution_count": null,
      "metadata": {
        "id": "JMxLc8PFTq4g"
      },
      "outputs": [],
      "source": [
        "# # Reshape the data\n",
        "# xTrainFinal = np.reshape(xTrainFinal,(xTrainFinal.shape[0],xTrainFinal.shape[1],1))\n",
        "# yTrainFinal = np.array([[1,0] if i==0 else [0,1] for i in yTrainFinal])\n",
        "# xTestFinal = np.reshape(xTestFinal,(xTestFinal.shape[0],xTestFinal.shape[1],1))\n",
        "# yTestFinal = np.array([[1,0] if i==0 else [0,1] for i in yTestFinal])\n",
        "# xValFinal = np.reshape(xValFinal,(xValFinal.shape[0],xValFinal.shape[1],1))\n",
        "# yValFinal = np.array([[1,0] if i==0 else [0,1] for i in yValFinal])\n",
        "\n",
        "xTrainFinal = np.reshape(xTrainFinal,(xTrainFinal.shape[0],xTrainFinal.shape[1],1))\n",
        "yTrainFinal = np.array([[0] if i==0 else [1] for i in yTrainFinal])\n",
        "xTestFinal = np.reshape(xTestFinal,(xTestFinal.shape[0],xTestFinal.shape[1],1))\n",
        "yTestFinal = np.array([[0] if i==0 else [1] for i in yTestFinal])\n",
        "xValFinal = np.reshape(xValFinal,(xValFinal.shape[0],xValFinal.shape[1],1))\n",
        "yValFinal = np.array([[0] if i==0 else [1] for i in yValFinal])"
      ]
    },
    {
      "cell_type": "code",
      "execution_count": null,
      "metadata": {
        "id": "aaBUsMI7L46a"
      },
      "outputs": [],
      "source": [
        "# initialize the kernel\n",
        "kernel1 = np.array([[[1,0]],[[0,1]]])\n",
        "kernel2 = np.array([[[1,0,0]],[[0,1,0]],[[0,0,1]]])"
      ]
    },
    {
      "cell_type": "code",
      "execution_count": null,
      "metadata": {
        "colab": {
          "background_save": true,
          "base_uri": "https://localhost:8080/"
        },
        "id": "fZe8m7UL7dvx",
        "outputId": "bd2b7c96-0e1b-4b2c-efd8-eba4a183b89f"
      },
      "outputs": [
        {
          "name": "stdout",
          "output_type": "stream",
          "text": [
            "Model: \"model_15\"\n",
            "_________________________________________________________________\n",
            " Layer (type)                Output Shape              Param #   \n",
            "=================================================================\n",
            " input_17 (InputLayer)       [(None, 1536, 1)]         0         \n",
            "                                                                 \n",
            " batch_normalization_40 (Bat  (None, 1536, 1)          4         \n",
            " chNormalization)                                                \n",
            "                                                                 \n",
            " conv1d_100 (Conv1D)         (None, 512, 3)            9         \n",
            "                                                                 \n",
            " conv1d_101 (Conv1D)         (None, 510, 50)           500       \n",
            "                                                                 \n",
            " max_pooling1d_69 (MaxPoolin  (None, 254, 50)          0         \n",
            " g1D)                                                            \n",
            "                                                                 \n",
            " conv1d_102 (Conv1D)         (None, 252, 20)           3020      \n",
            "                                                                 \n",
            " max_pooling1d_70 (MaxPoolin  (None, 250, 20)          0         \n",
            " g1D)                                                            \n",
            "                                                                 \n",
            " conv1d_103 (Conv1D)         (None, 248, 20)           1220      \n",
            "                                                                 \n",
            " max_pooling1d_71 (MaxPoolin  (None, 247, 20)          0         \n",
            " g1D)                                                            \n",
            "                                                                 \n",
            " conv1d_104 (Conv1D)         (None, 123, 2)            80        \n",
            "                                                                 \n",
            " max_pooling1d_72 (MaxPoolin  (None, 121, 2)           0         \n",
            " g1D)                                                            \n",
            "                                                                 \n",
            " batch_normalization_41 (Bat  (None, 121, 2)           8         \n",
            " chNormalization)                                                \n",
            "                                                                 \n",
            " flatten_12 (Flatten)        (None, 242)               0         \n",
            "                                                                 \n",
            " dropout_1 (Dropout)         (None, 242)               0         \n",
            "                                                                 \n",
            " batch_normalization_42 (Bat  (None, 242)              968       \n",
            " chNormalization)                                                \n",
            "                                                                 \n",
            " dense_12 (Dense)            (None, 1)                 243       \n",
            "                                                                 \n",
            "=================================================================\n",
            "Total params: 6,052\n",
            "Trainable params: 5,473\n",
            "Non-trainable params: 579\n",
            "_________________________________________________________________\n"
          ]
        }
      ],
      "source": [
        "#define the model\n",
        "input_shape=(xTrainFinal.shape[1],xTrainFinal.shape[2])\n",
        "inputs = Input(shape=input_shape)\n",
        "x = BatchNormalization()(inputs)\n",
        "x = Conv1D(3, (3), padding='valid', strides = 3, activation='relu', use_bias=False, weights=[kernel2], trainable=False)(x)\n",
        "x = Conv1D(50, kernel_size=(3),strides=1, activation='relu')(x)\n",
        "x = MaxPooling1D(pool_size=(3),strides=2)(x)\n",
        "#x = Conv1D(2, (2), padding='valid', strides = 2, activation='relu', use_bias=False, weights=[np.tile(kernel,(1,200,1))], trainable=False)(x)\n",
        "x = Conv1D(20, (3),activation='relu')(x)\n",
        "x = MaxPooling1D(pool_size=(3),strides=1)(x)\n",
        "#x = Conv1D(2, (2), padding='valid', strides = 2, activation='relu', use_bias=False, weights=[np.tile(kernel,(1,100,1))], trainable=False)(x)\n",
        "x = Conv1D(20, (3),activation='relu')(x)\n",
        "x = MaxPooling1D(pool_size=(2),strides=1)(x)\n",
        "x = Conv1D(2, (2), padding='valid', strides = 2, activation='relu', use_bias=False, weights=[np.tile(kernel1,(1,20,1))], trainable=False)(x)\n",
        "#x = Conv1D(50, (2),activation='relu')(x)\n",
        "x = MaxPooling1D(pool_size=(3),strides=1)(x)\n",
        "#x = Conv1D(2, (2), padding='valid', strides = 2, activation='relu', use_bias=False, weights=[np.tile(kernel,(1,50,1))], trainable=False)(x)\n",
        "# x = Conv1D(5, (3),activation='relu')(x)\n",
        "# x = MaxPooling1D(pool_size=(3),strides=2)(x)\n",
        "#x = Conv1D(2, (2), padding='valid', strides = 2, activation='relu', use_bias=False, weights=[np.tile(kernel,(1,10,1))], trainable=True)(x)\n",
        "#x = Conv1D(2, (3),activation='relu')(x)\n",
        "# query = Dense(3)(x)\n",
        "# key = Dense(3)(x)\n",
        "# value = Dense(3)(x)\n",
        "\n",
        "# score = Multiply()([query, key])\n",
        "# attention_weights = Flatten()(Reshape((-1,))(score))\n",
        "# attention_weights = Dense(x.shape[1], activation='softmax')(attention_weights)\n",
        "# attention_weights = Reshape((x.shape[1], 1))(attention_weights)\n",
        "# x = Multiply()([attention_weights, value])\n",
        "\n",
        "x = BatchNormalization()(x)\n",
        "x = Flatten()(x)\n",
        "x = Dropout(0.2)(x)\n",
        "x = BatchNormalization()(x)\n",
        "#model.add(Dense(2, kernel_initializer='he_uniform', activity_regularizer = regularizers.L2(0.01), kernel_regularizer= regularizers.L2(0.01), bias_regularizer= regularizers.L2(0.01), activation='softmax'))\n",
        "#model.add(Dense(2, activation='softmax'))\n",
        "output = Dense(1, activity_regularizer = regularizers.L2(0.02), kernel_regularizer= regularizers.L2(0.01), activation='sigmoid')(x)\n",
        "model = Model(inputs=inputs, outputs=output)\n",
        "model.summary()\n"
      ]
    },
    {
      "cell_type": "code",
      "execution_count": null,
      "metadata": {
        "id": "dfz5cua56AV_"
      },
      "outputs": [],
      "source": [
        "# kernel = np.array([[[1,0]],[[0,1]]])\n",
        "# #define the model\n",
        "# model = Sequential()\n",
        "# model.add(BatchNormalization(input_shape=(xTrainFinal.shape[1],xTrainFinal.shape[2])))\n",
        "# model.add(Conv1D(2, (2), padding='valid', strides = 2, activation=None, use_bias=False, weights=[kernel], trainable=False))\n",
        "# model.add(Conv1D(100, kernel_size=(10),strides=2))\n",
        "# model.add(Activation(\"relu\"))\n",
        "# model.add(MaxPooling1D(pool_size=(2),strides=2))\n",
        "# model.add(Conv1D(2, (2), padding='valid', strides = 2, activation=None, use_bias=False, weights=[np.tile(kernel,(1,100,1))], trainable=False))\n",
        "# model.add(Conv1D(75, (3)))\n",
        "# model.add(MaxPooling1D(pool_size=(2),strides=1))\n",
        "# model.add(Activation(\"relu\"))\n",
        "# model.add(Conv1D(2, (2), padding='valid', strides = 2, activation=None, use_bias=False, weights=[np.tile(kernel,(1,75,1))], trainable=False))\n",
        "# model.add(Conv1D(75, (5)))\n",
        "# model.add(MaxPooling1D(pool_size=(2),strides=1))\n",
        "# model.add(Activation(\"relu\"))\n",
        "# model.add(Conv1D(2, (2), padding='valid', strides = 2, activation=None, use_bias=False, weights=[np.tile(kernel,(1,75,1))], trainable=False))\n",
        "# #model.add(Conv1D(10, (5)))\n",
        "# model.add(MaxPooling1D(pool_size=(2)))\n",
        "# model.add(Activation(\"relu\"))\n",
        "# model.add(BatchNormalization())\n",
        "# model.add(Flatten())\n",
        "# #model.add(Dropout(0.3))\n",
        "# model.add(BatchNormalization())\n",
        "# #model.add(Dense(2, kernel_initializer='he_uniform', activity_regularizer = regularizers.L2(0.1), kernel_regularizer= regularizers.L2(0.1), bias_regularizer= regularizers.L2(0.1), activation='softmax'))\n",
        "# #model.add(Dense(2, kernel_initializer='he_uniform', activation='softmax'))\n",
        "# model.add(Dense(1, kernel_initializer='he_uniform', activation='sigmoid'))\n",
        "# model.summary()\n"
      ]
    },
    {
      "cell_type": "code",
      "execution_count": null,
      "metadata": {
        "colab": {
          "base_uri": "https://localhost:8080/",
          "height": 1000
        },
        "id": "s_It4b9AEzs5",
        "outputId": "616cd7a4-0e37-4700-d4b4-8791d1690e9b"
      },
      "outputs": [
        {
          "name": "stdout",
          "output_type": "stream",
          "text": [
            "Epoch 1/500\n",
            "106/106 [==============================] - 5s 15ms/step - loss: 0.6094 - binary_accuracy: 0.7254 - val_loss: 0.5891 - val_binary_accuracy: 0.7543\n",
            "Epoch 2/500\n",
            "106/106 [==============================] - 1s 11ms/step - loss: 0.5227 - binary_accuracy: 0.7713 - val_loss: 0.5548 - val_binary_accuracy: 0.7776\n",
            "Epoch 3/500\n",
            "106/106 [==============================] - 1s 11ms/step - loss: 0.4824 - binary_accuracy: 0.7945 - val_loss: 0.5218 - val_binary_accuracy: 0.7995\n",
            "Epoch 4/500\n",
            "106/106 [==============================] - 1s 11ms/step - loss: 0.4564 - binary_accuracy: 0.8067 - val_loss: 0.5561 - val_binary_accuracy: 0.7079\n",
            "Epoch 5/500\n",
            "106/106 [==============================] - 1s 11ms/step - loss: 0.4312 - binary_accuracy: 0.8203 - val_loss: 0.5073 - val_binary_accuracy: 0.7854\n",
            "Epoch 6/500\n",
            "106/106 [==============================] - 1s 11ms/step - loss: 0.4117 - binary_accuracy: 0.8304 - val_loss: 0.5508 - val_binary_accuracy: 0.7273\n",
            "Epoch 7/500\n",
            "106/106 [==============================] - 1s 11ms/step - loss: 0.4030 - binary_accuracy: 0.8355 - val_loss: 0.5299 - val_binary_accuracy: 0.7719\n",
            "Epoch 8/500\n",
            "106/106 [==============================] - 1s 11ms/step - loss: 0.3888 - binary_accuracy: 0.8431 - val_loss: 0.4883 - val_binary_accuracy: 0.7819\n",
            "Epoch 9/500\n",
            "106/106 [==============================] - 1s 11ms/step - loss: 0.3672 - binary_accuracy: 0.8538 - val_loss: 0.3513 - val_binary_accuracy: 0.8635\n",
            "Epoch 10/500\n",
            "106/106 [==============================] - 1s 11ms/step - loss: 0.3566 - binary_accuracy: 0.8598 - val_loss: 0.4006 - val_binary_accuracy: 0.8385\n",
            "Epoch 11/500\n",
            "106/106 [==============================] - 1s 11ms/step - loss: 0.3492 - binary_accuracy: 0.8623 - val_loss: 0.4010 - val_binary_accuracy: 0.8373\n",
            "Epoch 12/500\n",
            "106/106 [==============================] - 1s 11ms/step - loss: 0.3299 - binary_accuracy: 0.8720 - val_loss: 0.3802 - val_binary_accuracy: 0.8431\n",
            "Epoch 13/500\n",
            "106/106 [==============================] - 1s 11ms/step - loss: 0.3234 - binary_accuracy: 0.8742 - val_loss: 0.4333 - val_binary_accuracy: 0.8020\n",
            "Epoch 14/500\n",
            "106/106 [==============================] - 1s 11ms/step - loss: 0.3178 - binary_accuracy: 0.8770 - val_loss: 0.4925 - val_binary_accuracy: 0.7634\n",
            "Epoch 15/500\n",
            "106/106 [==============================] - 1s 11ms/step - loss: 0.3063 - binary_accuracy: 0.8815 - val_loss: 0.4619 - val_binary_accuracy: 0.7668\n",
            "Epoch 16/500\n",
            "106/106 [==============================] - 1s 11ms/step - loss: 0.3119 - binary_accuracy: 0.8779 - val_loss: 0.4346 - val_binary_accuracy: 0.8084\n",
            "Epoch 17/500\n",
            "106/106 [==============================] - 1s 11ms/step - loss: 0.3020 - binary_accuracy: 0.8839 - val_loss: 0.4027 - val_binary_accuracy: 0.8161\n",
            "Epoch 18/500\n",
            "106/106 [==============================] - 1s 11ms/step - loss: 0.2995 - binary_accuracy: 0.8856 - val_loss: 0.2900 - val_binary_accuracy: 0.8913\n",
            "Epoch 19/500\n",
            "106/106 [==============================] - 1s 11ms/step - loss: 0.2945 - binary_accuracy: 0.8869 - val_loss: 0.2976 - val_binary_accuracy: 0.8865\n",
            "Epoch 20/500\n",
            "106/106 [==============================] - 1s 11ms/step - loss: 0.2916 - binary_accuracy: 0.8883 - val_loss: 0.3140 - val_binary_accuracy: 0.8757\n",
            "Epoch 21/500\n",
            "106/106 [==============================] - 1s 11ms/step - loss: 0.2902 - binary_accuracy: 0.8894 - val_loss: 0.2891 - val_binary_accuracy: 0.8911\n",
            "Epoch 22/500\n",
            "106/106 [==============================] - 1s 11ms/step - loss: 0.2857 - binary_accuracy: 0.8914 - val_loss: 0.3189 - val_binary_accuracy: 0.8755\n",
            "Epoch 23/500\n",
            "106/106 [==============================] - 1s 12ms/step - loss: 0.2863 - binary_accuracy: 0.8910 - val_loss: 0.2805 - val_binary_accuracy: 0.8914\n",
            "Epoch 24/500\n",
            "106/106 [==============================] - 1s 12ms/step - loss: 0.2797 - binary_accuracy: 0.8925 - val_loss: 0.3053 - val_binary_accuracy: 0.8883\n",
            "Epoch 25/500\n",
            "106/106 [==============================] - 1s 12ms/step - loss: 0.2771 - binary_accuracy: 0.8946 - val_loss: 0.3478 - val_binary_accuracy: 0.8585\n",
            "Epoch 26/500\n",
            "106/106 [==============================] - 1s 11ms/step - loss: 0.2758 - binary_accuracy: 0.8941 - val_loss: 0.2916 - val_binary_accuracy: 0.8887\n",
            "Epoch 27/500\n",
            "106/106 [==============================] - 1s 11ms/step - loss: 0.2748 - binary_accuracy: 0.8948 - val_loss: 0.2773 - val_binary_accuracy: 0.8963\n",
            "Epoch 28/500\n",
            "106/106 [==============================] - 1s 11ms/step - loss: 0.2696 - binary_accuracy: 0.8972 - val_loss: 0.3098 - val_binary_accuracy: 0.8824\n",
            "Epoch 29/500\n",
            "106/106 [==============================] - 1s 11ms/step - loss: 0.2724 - binary_accuracy: 0.8955 - val_loss: 0.2775 - val_binary_accuracy: 0.8919\n",
            "Epoch 30/500\n",
            "106/106 [==============================] - 1s 11ms/step - loss: 0.2734 - binary_accuracy: 0.8951 - val_loss: 0.2760 - val_binary_accuracy: 0.8947\n",
            "Epoch 31/500\n",
            "106/106 [==============================] - 1s 11ms/step - loss: 0.2657 - binary_accuracy: 0.8994 - val_loss: 0.2689 - val_binary_accuracy: 0.8972\n",
            "Epoch 32/500\n",
            "106/106 [==============================] - 1s 11ms/step - loss: 0.2658 - binary_accuracy: 0.8982 - val_loss: 0.2861 - val_binary_accuracy: 0.8913\n",
            "Epoch 33/500\n",
            "106/106 [==============================] - 1s 11ms/step - loss: 0.2660 - binary_accuracy: 0.8984 - val_loss: 0.2835 - val_binary_accuracy: 0.8939\n",
            "Epoch 34/500\n",
            "106/106 [==============================] - 1s 11ms/step - loss: 0.2686 - binary_accuracy: 0.8975 - val_loss: 0.2659 - val_binary_accuracy: 0.8981\n",
            "Epoch 35/500\n",
            "106/106 [==============================] - 1s 11ms/step - loss: 0.2607 - binary_accuracy: 0.9004 - val_loss: 0.2800 - val_binary_accuracy: 0.8925\n",
            "Epoch 36/500\n",
            "106/106 [==============================] - 1s 11ms/step - loss: 0.2627 - binary_accuracy: 0.8999 - val_loss: 0.3091 - val_binary_accuracy: 0.8874\n",
            "Epoch 37/500\n",
            "106/106 [==============================] - 1s 11ms/step - loss: 0.2624 - binary_accuracy: 0.8998 - val_loss: 0.2957 - val_binary_accuracy: 0.8846\n",
            "Epoch 38/500\n",
            "106/106 [==============================] - 1s 11ms/step - loss: 0.2606 - binary_accuracy: 0.9010 - val_loss: 0.2787 - val_binary_accuracy: 0.8913\n",
            "Epoch 39/500\n",
            "106/106 [==============================] - 1s 11ms/step - loss: 0.2589 - binary_accuracy: 0.9013 - val_loss: 0.2711 - val_binary_accuracy: 0.8982\n",
            "Epoch 40/500\n",
            "106/106 [==============================] - 1s 11ms/step - loss: 0.2580 - binary_accuracy: 0.9017 - val_loss: 0.2899 - val_binary_accuracy: 0.8911\n",
            "Epoch 41/500\n",
            "106/106 [==============================] - 1s 11ms/step - loss: 0.2550 - binary_accuracy: 0.9029 - val_loss: 0.2600 - val_binary_accuracy: 0.9016\n",
            "Epoch 42/500\n",
            "106/106 [==============================] - 1s 11ms/step - loss: 0.2587 - binary_accuracy: 0.9007 - val_loss: 0.2810 - val_binary_accuracy: 0.8951\n",
            "Epoch 43/500\n",
            "106/106 [==============================] - 1s 11ms/step - loss: 0.2523 - binary_accuracy: 0.9032 - val_loss: 0.2839 - val_binary_accuracy: 0.8960\n",
            "Epoch 44/500\n",
            "106/106 [==============================] - 1s 11ms/step - loss: 0.2517 - binary_accuracy: 0.9039 - val_loss: 0.3489 - val_binary_accuracy: 0.8598\n",
            "Epoch 45/500\n",
            "106/106 [==============================] - 1s 11ms/step - loss: 0.2492 - binary_accuracy: 0.9048 - val_loss: 0.2801 - val_binary_accuracy: 0.8944\n",
            "Epoch 46/500\n",
            "106/106 [==============================] - 1s 11ms/step - loss: 0.2503 - binary_accuracy: 0.9048 - val_loss: 0.2545 - val_binary_accuracy: 0.9030\n",
            "Epoch 47/500\n",
            "106/106 [==============================] - 1s 11ms/step - loss: 0.2502 - binary_accuracy: 0.9042 - val_loss: 0.2602 - val_binary_accuracy: 0.9026\n",
            "Epoch 48/500\n",
            "106/106 [==============================] - 1s 11ms/step - loss: 0.2472 - binary_accuracy: 0.9060 - val_loss: 0.2593 - val_binary_accuracy: 0.9003\n",
            "Epoch 49/500\n",
            "106/106 [==============================] - 1s 11ms/step - loss: 0.2498 - binary_accuracy: 0.9048 - val_loss: 0.2997 - val_binary_accuracy: 0.8904\n",
            "Epoch 50/500\n",
            "106/106 [==============================] - 1s 11ms/step - loss: 0.2466 - binary_accuracy: 0.9062 - val_loss: 0.2783 - val_binary_accuracy: 0.8939\n",
            "Epoch 51/500\n",
            "106/106 [==============================] - 1s 11ms/step - loss: 0.2480 - binary_accuracy: 0.9049 - val_loss: 0.2512 - val_binary_accuracy: 0.9032\n",
            "Epoch 52/500\n",
            "106/106 [==============================] - 1s 11ms/step - loss: 0.2448 - binary_accuracy: 0.9059 - val_loss: 0.2617 - val_binary_accuracy: 0.9015\n",
            "Epoch 53/500\n",
            "106/106 [==============================] - 1s 11ms/step - loss: 0.2447 - binary_accuracy: 0.9072 - val_loss: 0.2452 - val_binary_accuracy: 0.9099\n",
            "Epoch 54/500\n",
            "106/106 [==============================] - 1s 11ms/step - loss: 0.2431 - binary_accuracy: 0.9075 - val_loss: 0.2408 - val_binary_accuracy: 0.9072\n",
            "Epoch 55/500\n",
            "106/106 [==============================] - 1s 11ms/step - loss: 0.2447 - binary_accuracy: 0.9065 - val_loss: 0.2541 - val_binary_accuracy: 0.9036\n",
            "Epoch 56/500\n",
            "106/106 [==============================] - 1s 11ms/step - loss: 0.2422 - binary_accuracy: 0.9079 - val_loss: 0.2822 - val_binary_accuracy: 0.8882\n",
            "Epoch 57/500\n",
            "106/106 [==============================] - 1s 11ms/step - loss: 0.2411 - binary_accuracy: 0.9078 - val_loss: 0.2650 - val_binary_accuracy: 0.8970\n",
            "Epoch 58/500\n",
            "106/106 [==============================] - 1s 11ms/step - loss: 0.2429 - binary_accuracy: 0.9074 - val_loss: 0.2806 - val_binary_accuracy: 0.8947\n",
            "Epoch 59/500\n",
            "106/106 [==============================] - 1s 11ms/step - loss: 0.2403 - binary_accuracy: 0.9089 - val_loss: 0.2476 - val_binary_accuracy: 0.9087\n",
            "Epoch 60/500\n",
            "106/106 [==============================] - 1s 11ms/step - loss: 0.2380 - binary_accuracy: 0.9086 - val_loss: 0.2444 - val_binary_accuracy: 0.9093\n",
            "Epoch 61/500\n",
            "106/106 [==============================] - 1s 12ms/step - loss: 0.2386 - binary_accuracy: 0.9093 - val_loss: 0.3000 - val_binary_accuracy: 0.8804\n",
            "Epoch 62/500\n",
            "106/106 [==============================] - 1s 11ms/step - loss: 0.2409 - binary_accuracy: 0.9080 - val_loss: 0.2508 - val_binary_accuracy: 0.9043\n",
            "Epoch 63/500\n",
            "106/106 [==============================] - 1s 11ms/step - loss: 0.2396 - binary_accuracy: 0.9086 - val_loss: 0.2867 - val_binary_accuracy: 0.8884\n",
            "Epoch 64/500\n",
            "106/106 [==============================] - 1s 12ms/step - loss: 0.2369 - binary_accuracy: 0.9093 - val_loss: 0.2556 - val_binary_accuracy: 0.9046\n",
            "Epoch 65/500\n",
            "106/106 [==============================] - 1s 12ms/step - loss: 0.2359 - binary_accuracy: 0.9106 - val_loss: 0.2581 - val_binary_accuracy: 0.9041\n",
            "Epoch 66/500\n",
            "106/106 [==============================] - 1s 11ms/step - loss: 0.2398 - binary_accuracy: 0.9096 - val_loss: 0.2445 - val_binary_accuracy: 0.9077\n",
            "Epoch 67/500\n",
            "106/106 [==============================] - 1s 11ms/step - loss: 0.2344 - binary_accuracy: 0.9106 - val_loss: 0.2427 - val_binary_accuracy: 0.9101\n",
            "Epoch 68/500\n",
            "106/106 [==============================] - 1s 11ms/step - loss: 0.2346 - binary_accuracy: 0.9115 - val_loss: 0.2453 - val_binary_accuracy: 0.9054\n",
            "Epoch 69/500\n",
            "106/106 [==============================] - 1s 11ms/step - loss: 0.2351 - binary_accuracy: 0.9108 - val_loss: 0.2441 - val_binary_accuracy: 0.9050\n",
            "Epoch 70/500\n",
            "106/106 [==============================] - 1s 11ms/step - loss: 0.2360 - binary_accuracy: 0.9107 - val_loss: 0.2414 - val_binary_accuracy: 0.9062\n",
            "Epoch 71/500\n",
            "106/106 [==============================] - 1s 11ms/step - loss: 0.2320 - binary_accuracy: 0.9127 - val_loss: 0.2535 - val_binary_accuracy: 0.9059\n",
            "Epoch 72/500\n",
            "106/106 [==============================] - 1s 11ms/step - loss: 0.2300 - binary_accuracy: 0.9132 - val_loss: 0.2397 - val_binary_accuracy: 0.9098\n",
            "Epoch 73/500\n",
            "106/106 [==============================] - 1s 11ms/step - loss: 0.2337 - binary_accuracy: 0.9112 - val_loss: 0.2514 - val_binary_accuracy: 0.9048\n",
            "Epoch 74/500\n",
            "106/106 [==============================] - 1s 11ms/step - loss: 0.2322 - binary_accuracy: 0.9123 - val_loss: 0.2455 - val_binary_accuracy: 0.9074\n",
            "Epoch 75/500\n",
            "106/106 [==============================] - 1s 11ms/step - loss: 0.2334 - binary_accuracy: 0.9111 - val_loss: 0.3252 - val_binary_accuracy: 0.8741\n",
            "Epoch 76/500\n",
            "106/106 [==============================] - 1s 11ms/step - loss: 0.2308 - binary_accuracy: 0.9121 - val_loss: 0.2524 - val_binary_accuracy: 0.9078\n",
            "Epoch 77/500\n",
            "106/106 [==============================] - 1s 11ms/step - loss: 0.2288 - binary_accuracy: 0.9135 - val_loss: 0.2481 - val_binary_accuracy: 0.9069\n",
            "Epoch 78/500\n",
            "106/106 [==============================] - 1s 11ms/step - loss: 0.2347 - binary_accuracy: 0.9113 - val_loss: 0.2398 - val_binary_accuracy: 0.9081\n",
            "Epoch 79/500\n",
            "106/106 [==============================] - 1s 11ms/step - loss: 0.2306 - binary_accuracy: 0.9127 - val_loss: 0.2596 - val_binary_accuracy: 0.9039\n",
            "Epoch 80/500\n",
            "106/106 [==============================] - 1s 11ms/step - loss: 0.2302 - binary_accuracy: 0.9130 - val_loss: 0.2468 - val_binary_accuracy: 0.9086\n",
            "Epoch 81/500\n",
            "106/106 [==============================] - 1s 11ms/step - loss: 0.2306 - binary_accuracy: 0.9130 - val_loss: 0.2408 - val_binary_accuracy: 0.9119\n",
            "Epoch 82/500\n",
            "106/106 [==============================] - 1s 11ms/step - loss: 0.2260 - binary_accuracy: 0.9146 - val_loss: 0.2677 - val_binary_accuracy: 0.9025\n",
            "Epoch 83/500\n",
            "106/106 [==============================] - 1s 11ms/step - loss: 0.2287 - binary_accuracy: 0.9137 - val_loss: 0.2606 - val_binary_accuracy: 0.8953\n",
            "Epoch 84/500\n",
            "106/106 [==============================] - 1s 11ms/step - loss: 0.2281 - binary_accuracy: 0.9135 - val_loss: 0.2660 - val_binary_accuracy: 0.8941\n",
            "Epoch 85/500\n",
            "106/106 [==============================] - 1s 11ms/step - loss: 0.2245 - binary_accuracy: 0.9157 - val_loss: 0.3169 - val_binary_accuracy: 0.8682\n",
            "Epoch 86/500\n",
            "106/106 [==============================] - 1s 11ms/step - loss: 0.2253 - binary_accuracy: 0.9147 - val_loss: 0.2297 - val_binary_accuracy: 0.9127\n",
            "Epoch 87/500\n",
            "106/106 [==============================] - 1s 11ms/step - loss: 0.2263 - binary_accuracy: 0.9144 - val_loss: 0.2252 - val_binary_accuracy: 0.9154\n",
            "Epoch 88/500\n",
            "106/106 [==============================] - 1s 11ms/step - loss: 0.2236 - binary_accuracy: 0.9155 - val_loss: 0.2298 - val_binary_accuracy: 0.9155\n",
            "Epoch 89/500\n",
            "106/106 [==============================] - 1s 11ms/step - loss: 0.2248 - binary_accuracy: 0.9148 - val_loss: 0.2335 - val_binary_accuracy: 0.9118\n",
            "Epoch 90/500\n",
            "106/106 [==============================] - 1s 11ms/step - loss: 0.2239 - binary_accuracy: 0.9156 - val_loss: 0.2328 - val_binary_accuracy: 0.9125\n",
            "Epoch 91/500\n",
            "106/106 [==============================] - 1s 11ms/step - loss: 0.2239 - binary_accuracy: 0.9150 - val_loss: 0.2314 - val_binary_accuracy: 0.9096\n",
            "Epoch 92/500\n",
            "106/106 [==============================] - 1s 11ms/step - loss: 0.2258 - binary_accuracy: 0.9143 - val_loss: 0.2307 - val_binary_accuracy: 0.9130\n",
            "Epoch 93/500\n",
            "106/106 [==============================] - 1s 11ms/step - loss: 0.2257 - binary_accuracy: 0.9141 - val_loss: 0.2528 - val_binary_accuracy: 0.9075\n",
            "Epoch 94/500\n",
            "106/106 [==============================] - 1s 11ms/step - loss: 0.2243 - binary_accuracy: 0.9150 - val_loss: 0.2403 - val_binary_accuracy: 0.9098\n",
            "Epoch 95/500\n",
            "106/106 [==============================] - 1s 11ms/step - loss: 0.2219 - binary_accuracy: 0.9162 - val_loss: 0.2954 - val_binary_accuracy: 0.8936\n",
            "Epoch 96/500\n",
            "106/106 [==============================] - 1s 11ms/step - loss: 0.2248 - binary_accuracy: 0.9154 - val_loss: 0.2647 - val_binary_accuracy: 0.9010\n",
            "Epoch 97/500\n",
            "106/106 [==============================] - 1s 11ms/step - loss: 0.2248 - binary_accuracy: 0.9143 - val_loss: 0.2321 - val_binary_accuracy: 0.9131\n",
            "Epoch 98/500\n",
            "106/106 [==============================] - 1s 11ms/step - loss: 0.2270 - binary_accuracy: 0.9142 - val_loss: 0.2330 - val_binary_accuracy: 0.9128\n",
            "Epoch 99/500\n",
            "106/106 [==============================] - 1s 11ms/step - loss: 0.2227 - binary_accuracy: 0.9147 - val_loss: 0.2763 - val_binary_accuracy: 0.8930\n",
            "Epoch 100/500\n",
            "106/106 [==============================] - 1s 11ms/step - loss: 0.2255 - binary_accuracy: 0.9145 - val_loss: 0.2602 - val_binary_accuracy: 0.8981\n",
            "Epoch 101/500\n",
            "106/106 [==============================] - 1s 11ms/step - loss: 0.2225 - binary_accuracy: 0.9160 - val_loss: 0.2265 - val_binary_accuracy: 0.9131\n",
            "Epoch 102/500\n",
            "106/106 [==============================] - 1s 11ms/step - loss: 0.2206 - binary_accuracy: 0.9160 - val_loss: 0.2562 - val_binary_accuracy: 0.9071\n",
            "Epoch 103/500\n",
            "106/106 [==============================] - 1s 11ms/step - loss: 0.2188 - binary_accuracy: 0.9170 - val_loss: 0.2547 - val_binary_accuracy: 0.9014\n",
            "Epoch 104/500\n",
            "106/106 [==============================] - 1s 11ms/step - loss: 0.2200 - binary_accuracy: 0.9168 - val_loss: 0.2743 - val_binary_accuracy: 0.8921\n",
            "Epoch 105/500\n",
            "106/106 [==============================] - 1s 12ms/step - loss: 0.2197 - binary_accuracy: 0.9168 - val_loss: 0.2265 - val_binary_accuracy: 0.9143\n",
            "Epoch 106/500\n",
            "106/106 [==============================] - 1s 11ms/step - loss: 0.2219 - binary_accuracy: 0.9152 - val_loss: 0.2286 - val_binary_accuracy: 0.9106\n",
            "Epoch 107/500\n",
            "106/106 [==============================] - 1s 11ms/step - loss: 0.2163 - binary_accuracy: 0.9182 - val_loss: 0.2307 - val_binary_accuracy: 0.9135\n",
            "Epoch 108/500\n",
            "106/106 [==============================] - 1s 11ms/step - loss: 0.2194 - binary_accuracy: 0.9173 - val_loss: 0.3252 - val_binary_accuracy: 0.8766\n",
            "Epoch 109/500\n",
            "106/106 [==============================] - 1s 11ms/step - loss: 0.2193 - binary_accuracy: 0.9167 - val_loss: 0.2293 - val_binary_accuracy: 0.9122\n",
            "Epoch 110/500\n",
            "106/106 [==============================] - 1s 11ms/step - loss: 0.2182 - binary_accuracy: 0.9169 - val_loss: 0.2366 - val_binary_accuracy: 0.9089\n",
            "Epoch 111/500\n",
            "106/106 [==============================] - 1s 11ms/step - loss: 0.2184 - binary_accuracy: 0.9170 - val_loss: 0.2247 - val_binary_accuracy: 0.9151\n",
            "Epoch 112/500\n",
            "106/106 [==============================] - 1s 11ms/step - loss: 0.2169 - binary_accuracy: 0.9174 - val_loss: 0.2201 - val_binary_accuracy: 0.9193\n",
            "Epoch 113/500\n",
            "106/106 [==============================] - 1s 11ms/step - loss: 0.2215 - binary_accuracy: 0.9155 - val_loss: 0.2373 - val_binary_accuracy: 0.9082\n",
            "Epoch 114/500\n",
            "106/106 [==============================] - 1s 11ms/step - loss: 0.2187 - binary_accuracy: 0.9175 - val_loss: 0.2243 - val_binary_accuracy: 0.9179\n",
            "Epoch 115/500\n",
            "106/106 [==============================] - 1s 11ms/step - loss: 0.2189 - binary_accuracy: 0.9172 - val_loss: 0.2562 - val_binary_accuracy: 0.8987\n",
            "Epoch 116/500\n",
            "106/106 [==============================] - 1s 11ms/step - loss: 0.2158 - binary_accuracy: 0.9187 - val_loss: 0.2566 - val_binary_accuracy: 0.8989\n",
            "Epoch 117/500\n",
            "106/106 [==============================] - 1s 11ms/step - loss: 0.2143 - binary_accuracy: 0.9194 - val_loss: 0.2189 - val_binary_accuracy: 0.9169\n",
            "Epoch 118/500\n",
            "106/106 [==============================] - 1s 11ms/step - loss: 0.2187 - binary_accuracy: 0.9172 - val_loss: 0.2209 - val_binary_accuracy: 0.9141\n",
            "Epoch 119/500\n",
            "106/106 [==============================] - 1s 11ms/step - loss: 0.2155 - binary_accuracy: 0.9190 - val_loss: 0.2255 - val_binary_accuracy: 0.9151\n",
            "Epoch 120/500\n",
            "106/106 [==============================] - 1s 11ms/step - loss: 0.2166 - binary_accuracy: 0.9182 - val_loss: 0.2527 - val_binary_accuracy: 0.9022\n",
            "Epoch 121/500\n",
            "106/106 [==============================] - 1s 11ms/step - loss: 0.2166 - binary_accuracy: 0.9185 - val_loss: 0.2304 - val_binary_accuracy: 0.9133\n",
            "Epoch 122/500\n",
            "106/106 [==============================] - 1s 11ms/step - loss: 0.2124 - binary_accuracy: 0.9203 - val_loss: 0.2371 - val_binary_accuracy: 0.9073\n",
            "Epoch 123/500\n",
            "106/106 [==============================] - 1s 11ms/step - loss: 0.2170 - binary_accuracy: 0.9173 - val_loss: 0.2646 - val_binary_accuracy: 0.8936\n",
            "Epoch 124/500\n",
            "106/106 [==============================] - 1s 11ms/step - loss: 0.2122 - binary_accuracy: 0.9198 - val_loss: 0.2327 - val_binary_accuracy: 0.9138\n",
            "Epoch 125/500\n",
            "106/106 [==============================] - 1s 11ms/step - loss: 0.2133 - binary_accuracy: 0.9190 - val_loss: 0.2316 - val_binary_accuracy: 0.9140\n",
            "Epoch 126/500\n",
            "106/106 [==============================] - 1s 11ms/step - loss: 0.2122 - binary_accuracy: 0.9204 - val_loss: 0.2214 - val_binary_accuracy: 0.9162\n",
            "Epoch 127/500\n",
            "106/106 [==============================] - 1s 11ms/step - loss: 0.2135 - binary_accuracy: 0.9195 - val_loss: 0.2193 - val_binary_accuracy: 0.9172\n",
            "Epoch 128/500\n",
            "106/106 [==============================] - 1s 11ms/step - loss: 0.2117 - binary_accuracy: 0.9202 - val_loss: 0.2283 - val_binary_accuracy: 0.9135\n",
            "Epoch 129/500\n",
            "106/106 [==============================] - 1s 11ms/step - loss: 0.2143 - binary_accuracy: 0.9191 - val_loss: 0.2212 - val_binary_accuracy: 0.9188\n",
            "Epoch 130/500\n",
            "106/106 [==============================] - 1s 11ms/step - loss: 0.2116 - binary_accuracy: 0.9196 - val_loss: 0.2472 - val_binary_accuracy: 0.9072\n",
            "Epoch 131/500\n",
            "106/106 [==============================] - 1s 11ms/step - loss: 0.2132 - binary_accuracy: 0.9199 - val_loss: 0.2426 - val_binary_accuracy: 0.9032\n",
            "Epoch 132/500\n",
            "106/106 [==============================] - 1s 11ms/step - loss: 0.2113 - binary_accuracy: 0.9209 - val_loss: 0.2327 - val_binary_accuracy: 0.9112\n",
            "Epoch 133/500\n",
            "106/106 [==============================] - 1s 11ms/step - loss: 0.2121 - binary_accuracy: 0.9195 - val_loss: 0.2154 - val_binary_accuracy: 0.9195\n",
            "Epoch 134/500\n",
            "106/106 [==============================] - 1s 11ms/step - loss: 0.2131 - binary_accuracy: 0.9198 - val_loss: 0.2215 - val_binary_accuracy: 0.9182\n",
            "Epoch 135/500\n",
            "106/106 [==============================] - 1s 11ms/step - loss: 0.2102 - binary_accuracy: 0.9201 - val_loss: 0.2419 - val_binary_accuracy: 0.9053\n",
            "Epoch 136/500\n",
            "106/106 [==============================] - 1s 11ms/step - loss: 0.2100 - binary_accuracy: 0.9206 - val_loss: 0.2609 - val_binary_accuracy: 0.9022\n",
            "Epoch 137/500\n",
            "106/106 [==============================] - 1s 11ms/step - loss: 0.2132 - binary_accuracy: 0.9203 - val_loss: 0.2377 - val_binary_accuracy: 0.9101\n",
            "Epoch 138/500\n",
            "106/106 [==============================] - 1s 11ms/step - loss: 0.2127 - binary_accuracy: 0.9195 - val_loss: 0.2180 - val_binary_accuracy: 0.9183\n",
            "Epoch 139/500\n",
            "106/106 [==============================] - 1s 11ms/step - loss: 0.2125 - binary_accuracy: 0.9198 - val_loss: 0.2184 - val_binary_accuracy: 0.9155\n",
            "Epoch 140/500\n",
            "106/106 [==============================] - 1s 11ms/step - loss: 0.2093 - binary_accuracy: 0.9214 - val_loss: 0.2151 - val_binary_accuracy: 0.9212\n",
            "Epoch 141/500\n",
            "106/106 [==============================] - 1s 11ms/step - loss: 0.2080 - binary_accuracy: 0.9219 - val_loss: 0.2234 - val_binary_accuracy: 0.9126\n",
            "Epoch 142/500\n",
            "106/106 [==============================] - 1s 11ms/step - loss: 0.2083 - binary_accuracy: 0.9213 - val_loss: 0.2429 - val_binary_accuracy: 0.9117\n",
            "Epoch 143/500\n",
            "106/106 [==============================] - 1s 11ms/step - loss: 0.2109 - binary_accuracy: 0.9211 - val_loss: 0.2232 - val_binary_accuracy: 0.9173\n",
            "Epoch 144/500\n",
            "106/106 [==============================] - 1s 11ms/step - loss: 0.2085 - binary_accuracy: 0.9216 - val_loss: 0.2273 - val_binary_accuracy: 0.9145\n",
            "Epoch 145/500\n",
            "106/106 [==============================] - 1s 11ms/step - loss: 0.2096 - binary_accuracy: 0.9217 - val_loss: 0.2176 - val_binary_accuracy: 0.9186\n",
            "Epoch 146/500\n",
            "106/106 [==============================] - 1s 11ms/step - loss: 0.2096 - binary_accuracy: 0.9207 - val_loss: 0.2243 - val_binary_accuracy: 0.9141\n",
            "Epoch 147/500\n",
            "106/106 [==============================] - 1s 11ms/step - loss: 0.2048 - binary_accuracy: 0.9229 - val_loss: 0.2198 - val_binary_accuracy: 0.9165\n",
            "Epoch 148/500\n",
            "106/106 [==============================] - 1s 11ms/step - loss: 0.2089 - binary_accuracy: 0.9211 - val_loss: 0.2302 - val_binary_accuracy: 0.9136\n",
            "Epoch 149/500\n",
            "106/106 [==============================] - 1s 11ms/step - loss: 0.2124 - binary_accuracy: 0.9196 - val_loss: 0.2228 - val_binary_accuracy: 0.9182\n",
            "Epoch 150/500\n",
            "106/106 [==============================] - 1s 11ms/step - loss: 0.2069 - binary_accuracy: 0.9216 - val_loss: 0.2461 - val_binary_accuracy: 0.9051\n",
            "Epoch 151/500\n",
            "106/106 [==============================] - 1s 11ms/step - loss: 0.2069 - binary_accuracy: 0.9216 - val_loss: 0.2102 - val_binary_accuracy: 0.9216\n",
            "Epoch 152/500\n",
            "106/106 [==============================] - 1s 11ms/step - loss: 0.2074 - binary_accuracy: 0.9220 - val_loss: 0.2129 - val_binary_accuracy: 0.9201\n",
            "Epoch 153/500\n",
            "106/106 [==============================] - 1s 11ms/step - loss: 0.2093 - binary_accuracy: 0.9206 - val_loss: 0.2320 - val_binary_accuracy: 0.9115\n",
            "Epoch 154/500\n",
            "106/106 [==============================] - 1s 11ms/step - loss: 0.2088 - binary_accuracy: 0.9212 - val_loss: 0.2260 - val_binary_accuracy: 0.9166\n",
            "Epoch 155/500\n",
            "106/106 [==============================] - 1s 11ms/step - loss: 0.2105 - binary_accuracy: 0.9201 - val_loss: 0.2581 - val_binary_accuracy: 0.9070\n",
            "Epoch 156/500\n",
            "106/106 [==============================] - 1s 11ms/step - loss: 0.2093 - binary_accuracy: 0.9205 - val_loss: 0.2147 - val_binary_accuracy: 0.9199\n",
            "Epoch 157/500\n",
            "106/106 [==============================] - 1s 11ms/step - loss: 0.2072 - binary_accuracy: 0.9216 - val_loss: 0.2438 - val_binary_accuracy: 0.9093\n",
            "Epoch 158/500\n",
            "106/106 [==============================] - 1s 11ms/step - loss: 0.2083 - binary_accuracy: 0.9208 - val_loss: 0.2241 - val_binary_accuracy: 0.9170\n",
            "Epoch 159/500\n",
            "106/106 [==============================] - 1s 11ms/step - loss: 0.2061 - binary_accuracy: 0.9223 - val_loss: 0.2227 - val_binary_accuracy: 0.9156\n",
            "Epoch 160/500\n",
            "106/106 [==============================] - 1s 11ms/step - loss: 0.2055 - binary_accuracy: 0.9222 - val_loss: 0.2200 - val_binary_accuracy: 0.9179\n",
            "Epoch 161/500\n",
            "106/106 [==============================] - 1s 11ms/step - loss: 0.2042 - binary_accuracy: 0.9231 - val_loss: 0.2149 - val_binary_accuracy: 0.9191\n",
            "Epoch 162/500\n",
            "106/106 [==============================] - 1s 11ms/step - loss: 0.2048 - binary_accuracy: 0.9229 - val_loss: 0.2281 - val_binary_accuracy: 0.9158\n",
            "Epoch 163/500\n",
            "106/106 [==============================] - 1s 11ms/step - loss: 0.2043 - binary_accuracy: 0.9234 - val_loss: 0.2321 - val_binary_accuracy: 0.9119\n",
            "Epoch 164/500\n",
            "106/106 [==============================] - 1s 11ms/step - loss: 0.2072 - binary_accuracy: 0.9219 - val_loss: 0.2143 - val_binary_accuracy: 0.9169\n",
            "Epoch 165/500\n",
            "106/106 [==============================] - 1s 11ms/step - loss: 0.2039 - binary_accuracy: 0.9238 - val_loss: 0.2164 - val_binary_accuracy: 0.9154\n",
            "Epoch 166/500\n",
            "106/106 [==============================] - 1s 11ms/step - loss: 0.2035 - binary_accuracy: 0.9227 - val_loss: 0.2461 - val_binary_accuracy: 0.9028\n",
            "Epoch 167/500\n",
            "106/106 [==============================] - 1s 11ms/step - loss: 0.2050 - binary_accuracy: 0.9229 - val_loss: 0.2268 - val_binary_accuracy: 0.9165\n",
            "Epoch 168/500\n",
            "106/106 [==============================] - 1s 11ms/step - loss: 0.2035 - binary_accuracy: 0.9231 - val_loss: 0.2262 - val_binary_accuracy: 0.9141\n",
            "Epoch 169/500\n",
            "106/106 [==============================] - 1s 11ms/step - loss: 0.2027 - binary_accuracy: 0.9237 - val_loss: 0.2285 - val_binary_accuracy: 0.9125\n",
            "Epoch 170/500\n",
            "106/106 [==============================] - 1s 11ms/step - loss: 0.2024 - binary_accuracy: 0.9238 - val_loss: 0.2523 - val_binary_accuracy: 0.9019\n",
            "Epoch 171/500\n",
            "106/106 [==============================] - 1s 11ms/step - loss: 0.2010 - binary_accuracy: 0.9246 - val_loss: 0.2112 - val_binary_accuracy: 0.9221\n",
            "Epoch 172/500\n",
            "106/106 [==============================] - 1s 11ms/step - loss: 0.2067 - binary_accuracy: 0.9221 - val_loss: 0.2176 - val_binary_accuracy: 0.9199\n",
            "Epoch 173/500\n",
            "106/106 [==============================] - 1s 11ms/step - loss: 0.2005 - binary_accuracy: 0.9250 - val_loss: 0.2433 - val_binary_accuracy: 0.9064\n",
            "Epoch 174/500\n",
            "106/106 [==============================] - 1s 11ms/step - loss: 0.2055 - binary_accuracy: 0.9222 - val_loss: 0.2129 - val_binary_accuracy: 0.9195\n",
            "Epoch 175/500\n",
            "106/106 [==============================] - 1s 11ms/step - loss: 0.2032 - binary_accuracy: 0.9234 - val_loss: 0.2152 - val_binary_accuracy: 0.9202\n",
            "Epoch 176/500\n",
            "106/106 [==============================] - 1s 11ms/step - loss: 0.2015 - binary_accuracy: 0.9242 - val_loss: 0.2211 - val_binary_accuracy: 0.9190\n",
            "Epoch 177/500\n",
            "106/106 [==============================] - 1s 11ms/step - loss: 0.2017 - binary_accuracy: 0.9243 - val_loss: 0.2144 - val_binary_accuracy: 0.9207\n",
            "Epoch 178/500\n",
            "106/106 [==============================] - 1s 11ms/step - loss: 0.2012 - binary_accuracy: 0.9237 - val_loss: 0.2368 - val_binary_accuracy: 0.9111\n",
            "Epoch 179/500\n",
            "106/106 [==============================] - 1s 11ms/step - loss: 0.2021 - binary_accuracy: 0.9242 - val_loss: 0.2292 - val_binary_accuracy: 0.9150\n",
            "Epoch 180/500\n",
            "106/106 [==============================] - 1s 11ms/step - loss: 0.2019 - binary_accuracy: 0.9247 - val_loss: 0.2285 - val_binary_accuracy: 0.9116\n",
            "Epoch 181/500\n",
            "106/106 [==============================] - 1s 11ms/step - loss: 0.2021 - binary_accuracy: 0.9233 - val_loss: 0.2252 - val_binary_accuracy: 0.9148\n",
            "Epoch 182/500\n",
            "106/106 [==============================] - 1s 11ms/step - loss: 0.2053 - binary_accuracy: 0.9223 - val_loss: 0.2201 - val_binary_accuracy: 0.9197\n",
            "Epoch 183/500\n",
            "106/106 [==============================] - 1s 11ms/step - loss: 0.2027 - binary_accuracy: 0.9230 - val_loss: 0.2236 - val_binary_accuracy: 0.9167\n",
            "Epoch 184/500\n",
            "106/106 [==============================] - 1s 11ms/step - loss: 0.2006 - binary_accuracy: 0.9243 - val_loss: 0.2387 - val_binary_accuracy: 0.9088\n",
            "Epoch 185/500\n",
            "106/106 [==============================] - 1s 11ms/step - loss: 0.2000 - binary_accuracy: 0.9253 - val_loss: 0.2449 - val_binary_accuracy: 0.9094\n",
            "Epoch 186/500\n",
            "106/106 [==============================] - 1s 11ms/step - loss: 0.2015 - binary_accuracy: 0.9253 - val_loss: 0.2096 - val_binary_accuracy: 0.9216\n",
            "Epoch 187/500\n",
            "106/106 [==============================] - 1s 11ms/step - loss: 0.2036 - binary_accuracy: 0.9230 - val_loss: 0.2234 - val_binary_accuracy: 0.9149\n",
            "Epoch 188/500\n",
            "106/106 [==============================] - 1s 11ms/step - loss: 0.2001 - binary_accuracy: 0.9245 - val_loss: 0.2354 - val_binary_accuracy: 0.9099\n",
            "Epoch 189/500\n",
            "106/106 [==============================] - 1s 11ms/step - loss: 0.1994 - binary_accuracy: 0.9250 - val_loss: 0.3026 - val_binary_accuracy: 0.8814\n",
            "Epoch 190/500\n",
            "106/106 [==============================] - 1s 11ms/step - loss: 0.1985 - binary_accuracy: 0.9252 - val_loss: 0.3366 - val_binary_accuracy: 0.8730\n",
            "Epoch 191/500\n",
            "106/106 [==============================] - 1s 11ms/step - loss: 0.1993 - binary_accuracy: 0.9243 - val_loss: 0.2356 - val_binary_accuracy: 0.9094\n",
            "Epoch 192/500\n",
            "106/106 [==============================] - 1s 11ms/step - loss: 0.2004 - binary_accuracy: 0.9244 - val_loss: 0.2169 - val_binary_accuracy: 0.9186\n",
            "Epoch 193/500\n",
            "106/106 [==============================] - 1s 11ms/step - loss: 0.2043 - binary_accuracy: 0.9230 - val_loss: 0.2148 - val_binary_accuracy: 0.9194\n",
            "Epoch 194/500\n",
            "106/106 [==============================] - 1s 11ms/step - loss: 0.2026 - binary_accuracy: 0.9231 - val_loss: 0.2269 - val_binary_accuracy: 0.9176\n",
            "Epoch 195/500\n",
            "106/106 [==============================] - 1s 11ms/step - loss: 0.1995 - binary_accuracy: 0.9245 - val_loss: 0.2283 - val_binary_accuracy: 0.9112\n",
            "Epoch 196/500\n",
            "106/106 [==============================] - 1s 11ms/step - loss: 0.2009 - binary_accuracy: 0.9244 - val_loss: 0.2100 - val_binary_accuracy: 0.9232\n",
            "Epoch 197/500\n",
            "106/106 [==============================] - 1s 11ms/step - loss: 0.1988 - binary_accuracy: 0.9249 - val_loss: 0.2365 - val_binary_accuracy: 0.9122\n",
            "Epoch 198/500\n",
            "106/106 [==============================] - 1s 11ms/step - loss: 0.2019 - binary_accuracy: 0.9232 - val_loss: 0.2544 - val_binary_accuracy: 0.9066\n",
            "Epoch 199/500\n",
            "106/106 [==============================] - 1s 11ms/step - loss: 0.2003 - binary_accuracy: 0.9248 - val_loss: 0.2190 - val_binary_accuracy: 0.9171\n",
            "Epoch 200/500\n",
            "106/106 [==============================] - 1s 11ms/step - loss: 0.1993 - binary_accuracy: 0.9251 - val_loss: 0.3238 - val_binary_accuracy: 0.8871\n",
            "Epoch 201/500\n",
            "106/106 [==============================] - 1s 11ms/step - loss: 0.2024 - binary_accuracy: 0.9234 - val_loss: 0.2189 - val_binary_accuracy: 0.9187\n",
            "Epoch 202/500\n",
            "106/106 [==============================] - 1s 11ms/step - loss: 0.2003 - binary_accuracy: 0.9246 - val_loss: 0.2098 - val_binary_accuracy: 0.9203\n",
            "Epoch 203/500\n",
            "106/106 [==============================] - 1s 11ms/step - loss: 0.1974 - binary_accuracy: 0.9260 - val_loss: 0.2176 - val_binary_accuracy: 0.9170\n",
            "Epoch 204/500\n",
            "106/106 [==============================] - 1s 11ms/step - loss: 0.2018 - binary_accuracy: 0.9236 - val_loss: 0.2082 - val_binary_accuracy: 0.9211\n",
            "Epoch 205/500\n",
            "106/106 [==============================] - 1s 11ms/step - loss: 0.1989 - binary_accuracy: 0.9248 - val_loss: 0.2186 - val_binary_accuracy: 0.9152\n",
            "Epoch 206/500\n",
            "106/106 [==============================] - 1s 11ms/step - loss: 0.1977 - binary_accuracy: 0.9253 - val_loss: 0.2277 - val_binary_accuracy: 0.9129\n",
            "Epoch 207/500\n",
            "106/106 [==============================] - 1s 11ms/step - loss: 0.1959 - binary_accuracy: 0.9260 - val_loss: 0.2334 - val_binary_accuracy: 0.9072\n",
            "Epoch 208/500\n",
            "106/106 [==============================] - 1s 11ms/step - loss: 0.2026 - binary_accuracy: 0.9234 - val_loss: 0.2416 - val_binary_accuracy: 0.9045\n",
            "Epoch 209/500\n",
            "106/106 [==============================] - 1s 11ms/step - loss: 0.2005 - binary_accuracy: 0.9244 - val_loss: 0.2120 - val_binary_accuracy: 0.9173\n",
            "Epoch 210/500\n",
            "106/106 [==============================] - 1s 11ms/step - loss: 0.1981 - binary_accuracy: 0.9248 - val_loss: 0.2113 - val_binary_accuracy: 0.9216\n",
            "Epoch 211/500\n",
            "106/106 [==============================] - 1s 11ms/step - loss: 0.1991 - binary_accuracy: 0.9242 - val_loss: 0.2274 - val_binary_accuracy: 0.9145\n",
            "Epoch 212/500\n",
            "106/106 [==============================] - 1s 11ms/step - loss: 0.1993 - binary_accuracy: 0.9245 - val_loss: 0.2392 - val_binary_accuracy: 0.9076\n",
            "Epoch 213/500\n",
            "106/106 [==============================] - 1s 11ms/step - loss: 0.2004 - binary_accuracy: 0.9240 - val_loss: 0.2194 - val_binary_accuracy: 0.9177\n",
            "Epoch 214/500\n",
            "106/106 [==============================] - 1s 11ms/step - loss: 0.1965 - binary_accuracy: 0.9260 - val_loss: 0.2060 - val_binary_accuracy: 0.9223\n",
            "Epoch 215/500\n",
            "106/106 [==============================] - 1s 11ms/step - loss: 0.1940 - binary_accuracy: 0.9267 - val_loss: 0.2144 - val_binary_accuracy: 0.9185\n",
            "Epoch 216/500\n",
            "106/106 [==============================] - 1s 11ms/step - loss: 0.1970 - binary_accuracy: 0.9257 - val_loss: 0.2136 - val_binary_accuracy: 0.9198\n",
            "Epoch 217/500\n",
            "106/106 [==============================] - 1s 11ms/step - loss: 0.1966 - binary_accuracy: 0.9266 - val_loss: 0.2103 - val_binary_accuracy: 0.9223\n",
            "Epoch 218/500\n",
            "106/106 [==============================] - 1s 11ms/step - loss: 0.1984 - binary_accuracy: 0.9255 - val_loss: 0.2172 - val_binary_accuracy: 0.9165\n",
            "Epoch 219/500\n",
            "106/106 [==============================] - 1s 11ms/step - loss: 0.1988 - binary_accuracy: 0.9251 - val_loss: 0.2181 - val_binary_accuracy: 0.9180\n",
            "Epoch 220/500\n",
            "106/106 [==============================] - 1s 12ms/step - loss: 0.1993 - binary_accuracy: 0.9246 - val_loss: 0.2107 - val_binary_accuracy: 0.9212\n",
            "Epoch 221/500\n",
            "106/106 [==============================] - 1s 11ms/step - loss: 0.1972 - binary_accuracy: 0.9259 - val_loss: 0.2089 - val_binary_accuracy: 0.9211\n",
            "Epoch 222/500\n",
            "106/106 [==============================] - 1s 11ms/step - loss: 0.1962 - binary_accuracy: 0.9255 - val_loss: 0.2104 - val_binary_accuracy: 0.9199\n",
            "Epoch 223/500\n",
            "106/106 [==============================] - 1s 11ms/step - loss: 0.1969 - binary_accuracy: 0.9253 - val_loss: 0.2222 - val_binary_accuracy: 0.9155\n",
            "Epoch 224/500\n",
            "106/106 [==============================] - 1s 11ms/step - loss: 0.1974 - binary_accuracy: 0.9255 - val_loss: 0.2720 - val_binary_accuracy: 0.8902\n",
            "Epoch 225/500\n",
            "106/106 [==============================] - 1s 11ms/step - loss: 0.1948 - binary_accuracy: 0.9266 - val_loss: 0.2094 - val_binary_accuracy: 0.9204\n",
            "Epoch 226/500\n",
            "106/106 [==============================] - 1s 11ms/step - loss: 0.1947 - binary_accuracy: 0.9268 - val_loss: 0.2179 - val_binary_accuracy: 0.9188\n",
            "Epoch 227/500\n",
            "106/106 [==============================] - 1s 11ms/step - loss: 0.1929 - binary_accuracy: 0.9270 - val_loss: 0.2418 - val_binary_accuracy: 0.9065\n",
            "Epoch 228/500\n",
            "106/106 [==============================] - 1s 11ms/step - loss: 0.1974 - binary_accuracy: 0.9255 - val_loss: 0.2902 - val_binary_accuracy: 0.8799\n",
            "Epoch 229/500\n",
            "106/106 [==============================] - 1s 11ms/step - loss: 0.1993 - binary_accuracy: 0.9244 - val_loss: 0.2126 - val_binary_accuracy: 0.9210\n",
            "Epoch 230/500\n",
            "106/106 [==============================] - 1s 11ms/step - loss: 0.1948 - binary_accuracy: 0.9269 - val_loss: 0.2181 - val_binary_accuracy: 0.9179\n",
            "Epoch 231/500\n",
            "106/106 [==============================] - 1s 11ms/step - loss: 0.1935 - binary_accuracy: 0.9271 - val_loss: 0.2218 - val_binary_accuracy: 0.9150\n",
            "Epoch 232/500\n",
            "106/106 [==============================] - 1s 11ms/step - loss: 0.1975 - binary_accuracy: 0.9254 - val_loss: 0.2097 - val_binary_accuracy: 0.9213\n",
            "Epoch 233/500\n",
            "106/106 [==============================] - 1s 11ms/step - loss: 0.1942 - binary_accuracy: 0.9267 - val_loss: 0.2208 - val_binary_accuracy: 0.9170\n",
            "Epoch 234/500\n",
            "106/106 [==============================] - 1s 11ms/step - loss: 0.1940 - binary_accuracy: 0.9271 - val_loss: 0.2135 - val_binary_accuracy: 0.9190\n",
            "Epoch 235/500\n",
            "106/106 [==============================] - 1s 11ms/step - loss: 0.1955 - binary_accuracy: 0.9268 - val_loss: 0.2093 - val_binary_accuracy: 0.9215\n",
            "Epoch 236/500\n",
            "106/106 [==============================] - 1s 11ms/step - loss: 0.1955 - binary_accuracy: 0.9259 - val_loss: 0.2101 - val_binary_accuracy: 0.9194\n",
            "Epoch 237/500\n",
            "106/106 [==============================] - 1s 11ms/step - loss: 0.1960 - binary_accuracy: 0.9259 - val_loss: 0.2290 - val_binary_accuracy: 0.9126\n",
            "Epoch 238/500\n",
            "106/106 [==============================] - 1s 11ms/step - loss: 0.1956 - binary_accuracy: 0.9260 - val_loss: 0.2568 - val_binary_accuracy: 0.8992\n",
            "Epoch 239/500\n",
            "106/106 [==============================] - 1s 11ms/step - loss: 0.1941 - binary_accuracy: 0.9273 - val_loss: 0.2151 - val_binary_accuracy: 0.9173\n",
            "Epoch 240/500\n",
            "106/106 [==============================] - 1s 11ms/step - loss: 0.1942 - binary_accuracy: 0.9268 - val_loss: 0.2293 - val_binary_accuracy: 0.9121\n",
            "Epoch 241/500\n",
            "106/106 [==============================] - 1s 11ms/step - loss: 0.1953 - binary_accuracy: 0.9265 - val_loss: 0.2204 - val_binary_accuracy: 0.9188\n",
            "Epoch 242/500\n",
            "106/106 [==============================] - 1s 11ms/step - loss: 0.1967 - binary_accuracy: 0.9260 - val_loss: 0.2123 - val_binary_accuracy: 0.9210\n",
            "Epoch 243/500\n",
            "106/106 [==============================] - 1s 11ms/step - loss: 0.1953 - binary_accuracy: 0.9259 - val_loss: 0.2144 - val_binary_accuracy: 0.9206\n",
            "Epoch 244/500\n",
            "106/106 [==============================] - 1s 11ms/step - loss: 0.1947 - binary_accuracy: 0.9263 - val_loss: 0.2135 - val_binary_accuracy: 0.9189\n",
            "Epoch 245/500\n",
            "106/106 [==============================] - 1s 11ms/step - loss: 0.1921 - binary_accuracy: 0.9277 - val_loss: 0.2149 - val_binary_accuracy: 0.9192\n",
            "Epoch 246/500\n",
            "106/106 [==============================] - 1s 11ms/step - loss: 0.1953 - binary_accuracy: 0.9270 - val_loss: 0.2106 - val_binary_accuracy: 0.9217\n",
            "Epoch 247/500\n",
            "106/106 [==============================] - 1s 11ms/step - loss: 0.1926 - binary_accuracy: 0.9271 - val_loss: 0.2134 - val_binary_accuracy: 0.9211\n",
            "Epoch 248/500\n",
            "106/106 [==============================] - 1s 11ms/step - loss: 0.1944 - binary_accuracy: 0.9266 - val_loss: 0.2331 - val_binary_accuracy: 0.9131\n",
            "Epoch 249/500\n",
            "106/106 [==============================] - 1s 11ms/step - loss: 0.1921 - binary_accuracy: 0.9278 - val_loss: 0.2050 - val_binary_accuracy: 0.9222\n",
            "Epoch 250/500\n",
            "106/106 [==============================] - 1s 11ms/step - loss: 0.1945 - binary_accuracy: 0.9266 - val_loss: 0.2101 - val_binary_accuracy: 0.9189\n",
            "Epoch 251/500\n",
            "106/106 [==============================] - 1s 11ms/step - loss: 0.1922 - binary_accuracy: 0.9274 - val_loss: 0.2152 - val_binary_accuracy: 0.9194\n",
            "Epoch 252/500\n",
            "106/106 [==============================] - 1s 11ms/step - loss: 0.1992 - binary_accuracy: 0.9249 - val_loss: 0.2438 - val_binary_accuracy: 0.9067\n",
            "Epoch 253/500\n",
            "106/106 [==============================] - 1s 11ms/step - loss: 0.1938 - binary_accuracy: 0.9264 - val_loss: 0.2148 - val_binary_accuracy: 0.9190\n",
            "Epoch 254/500\n",
            "106/106 [==============================] - 1s 11ms/step - loss: 0.1940 - binary_accuracy: 0.9271 - val_loss: 0.2043 - val_binary_accuracy: 0.9230\n",
            "Epoch 255/500\n",
            "106/106 [==============================] - 1s 11ms/step - loss: 0.1899 - binary_accuracy: 0.9284 - val_loss: 0.2041 - val_binary_accuracy: 0.9230\n",
            "Epoch 256/500\n",
            "106/106 [==============================] - 1s 11ms/step - loss: 0.1926 - binary_accuracy: 0.9272 - val_loss: 0.2113 - val_binary_accuracy: 0.9192\n",
            "Epoch 257/500\n",
            "106/106 [==============================] - 1s 11ms/step - loss: 0.1917 - binary_accuracy: 0.9277 - val_loss: 0.2315 - val_binary_accuracy: 0.9137\n",
            "Epoch 258/500\n",
            "106/106 [==============================] - 1s 11ms/step - loss: 0.1926 - binary_accuracy: 0.9275 - val_loss: 0.2414 - val_binary_accuracy: 0.9097\n",
            "Epoch 259/500\n",
            "106/106 [==============================] - 1s 11ms/step - loss: 0.1980 - binary_accuracy: 0.9249 - val_loss: 0.2250 - val_binary_accuracy: 0.9135\n",
            "Epoch 260/500\n",
            "106/106 [==============================] - 1s 11ms/step - loss: 0.1943 - binary_accuracy: 0.9267 - val_loss: 0.2400 - val_binary_accuracy: 0.9118\n",
            "Epoch 261/500\n",
            "106/106 [==============================] - 1s 11ms/step - loss: 0.1926 - binary_accuracy: 0.9283 - val_loss: 0.2273 - val_binary_accuracy: 0.9116\n",
            "Epoch 262/500\n",
            "106/106 [==============================] - 1s 11ms/step - loss: 0.1918 - binary_accuracy: 0.9277 - val_loss: 0.2085 - val_binary_accuracy: 0.9219\n",
            "Epoch 263/500\n",
            "106/106 [==============================] - 1s 11ms/step - loss: 0.1911 - binary_accuracy: 0.9286 - val_loss: 0.2046 - val_binary_accuracy: 0.9223\n",
            "Epoch 264/500\n",
            "106/106 [==============================] - 1s 11ms/step - loss: 0.1927 - binary_accuracy: 0.9269 - val_loss: 0.2259 - val_binary_accuracy: 0.9146\n",
            "Epoch 265/500\n",
            "106/106 [==============================] - 1s 11ms/step - loss: 0.1919 - binary_accuracy: 0.9275 - val_loss: 0.2325 - val_binary_accuracy: 0.9114\n",
            "Epoch 266/500\n",
            "106/106 [==============================] - 1s 11ms/step - loss: 0.1921 - binary_accuracy: 0.9272 - val_loss: 0.2233 - val_binary_accuracy: 0.9199\n",
            "Epoch 267/500\n",
            "106/106 [==============================] - 1s 11ms/step - loss: 0.1924 - binary_accuracy: 0.9278 - val_loss: 0.2171 - val_binary_accuracy: 0.9196\n",
            "Epoch 268/500\n",
            "106/106 [==============================] - 1s 11ms/step - loss: 0.1908 - binary_accuracy: 0.9276 - val_loss: 0.2260 - val_binary_accuracy: 0.9169\n",
            "Epoch 269/500\n",
            "106/106 [==============================] - 1s 11ms/step - loss: 0.1918 - binary_accuracy: 0.9279 - val_loss: 0.2137 - val_binary_accuracy: 0.9175\n",
            "Epoch 270/500\n",
            "106/106 [==============================] - 1s 11ms/step - loss: 0.1902 - binary_accuracy: 0.9290 - val_loss: 0.2436 - val_binary_accuracy: 0.9062\n",
            "Epoch 271/500\n",
            "106/106 [==============================] - 1s 11ms/step - loss: 0.1891 - binary_accuracy: 0.9285 - val_loss: 0.2126 - val_binary_accuracy: 0.9214\n",
            "Epoch 272/500\n",
            "106/106 [==============================] - 1s 11ms/step - loss: 0.1928 - binary_accuracy: 0.9268 - val_loss: 0.2627 - val_binary_accuracy: 0.8931\n",
            "Epoch 273/500\n",
            "106/106 [==============================] - 1s 11ms/step - loss: 0.1901 - binary_accuracy: 0.9283 - val_loss: 0.2117 - val_binary_accuracy: 0.9217\n",
            "Epoch 274/500\n",
            "106/106 [==============================] - 1s 11ms/step - loss: 0.1894 - binary_accuracy: 0.9286 - val_loss: 0.2148 - val_binary_accuracy: 0.9187\n",
            "Epoch 275/500\n",
            "106/106 [==============================] - 1s 11ms/step - loss: 0.1942 - binary_accuracy: 0.9273 - val_loss: 0.2328 - val_binary_accuracy: 0.9110\n",
            "Epoch 276/500\n",
            "106/106 [==============================] - 1s 11ms/step - loss: 0.1883 - binary_accuracy: 0.9288 - val_loss: 0.2514 - val_binary_accuracy: 0.9050\n",
            "Epoch 277/500\n",
            "106/106 [==============================] - 1s 11ms/step - loss: 0.1880 - binary_accuracy: 0.9292 - val_loss: 0.2101 - val_binary_accuracy: 0.9215\n",
            "Epoch 278/500\n",
            "106/106 [==============================] - 1s 11ms/step - loss: 0.1910 - binary_accuracy: 0.9283 - val_loss: 0.2218 - val_binary_accuracy: 0.9136\n",
            "Epoch 279/500\n",
            "106/106 [==============================] - 1s 12ms/step - loss: 0.1910 - binary_accuracy: 0.9283 - val_loss: 0.2393 - val_binary_accuracy: 0.9078\n",
            "Epoch 280/500\n",
            "106/106 [==============================] - 1s 11ms/step - loss: 0.1921 - binary_accuracy: 0.9274 - val_loss: 0.2459 - val_binary_accuracy: 0.9125\n",
            "Epoch 281/500\n",
            "106/106 [==============================] - 1s 11ms/step - loss: 0.1911 - binary_accuracy: 0.9268 - val_loss: 0.2200 - val_binary_accuracy: 0.9165\n",
            "Epoch 282/500\n",
            "106/106 [==============================] - 1s 11ms/step - loss: 0.1901 - binary_accuracy: 0.9279 - val_loss: 0.2468 - val_binary_accuracy: 0.8990\n",
            "Epoch 283/500\n",
            "106/106 [==============================] - 1s 11ms/step - loss: 0.1893 - binary_accuracy: 0.9283 - val_loss: 0.2110 - val_binary_accuracy: 0.9193\n",
            "Epoch 284/500\n",
            "106/106 [==============================] - 1s 11ms/step - loss: 0.1891 - binary_accuracy: 0.9287 - val_loss: 0.2103 - val_binary_accuracy: 0.9199\n",
            "Epoch 285/500\n",
            "106/106 [==============================] - 1s 11ms/step - loss: 0.1880 - binary_accuracy: 0.9292 - val_loss: 0.2276 - val_binary_accuracy: 0.9164\n",
            "Epoch 286/500\n",
            "106/106 [==============================] - 1s 11ms/step - loss: 0.1917 - binary_accuracy: 0.9275 - val_loss: 0.2038 - val_binary_accuracy: 0.9237\n",
            "Epoch 287/500\n",
            "106/106 [==============================] - 1s 11ms/step - loss: 0.1880 - binary_accuracy: 0.9291 - val_loss: 0.2098 - val_binary_accuracy: 0.9237\n",
            "Epoch 288/500\n",
            "106/106 [==============================] - 1s 11ms/step - loss: 0.1887 - binary_accuracy: 0.9289 - val_loss: 0.2246 - val_binary_accuracy: 0.9140\n",
            "Epoch 289/500\n",
            "106/106 [==============================] - 1s 11ms/step - loss: 0.1910 - binary_accuracy: 0.9289 - val_loss: 0.2083 - val_binary_accuracy: 0.9213\n",
            "Epoch 290/500\n",
            "106/106 [==============================] - 1s 11ms/step - loss: 0.1900 - binary_accuracy: 0.9280 - val_loss: 0.2715 - val_binary_accuracy: 0.8857\n",
            "Epoch 291/500\n",
            "106/106 [==============================] - 1s 11ms/step - loss: 0.1890 - binary_accuracy: 0.9288 - val_loss: 0.2081 - val_binary_accuracy: 0.9216\n",
            "Epoch 292/500\n",
            "106/106 [==============================] - 1s 11ms/step - loss: 0.1915 - binary_accuracy: 0.9273 - val_loss: 0.2144 - val_binary_accuracy: 0.9176\n",
            "Epoch 293/500\n",
            "106/106 [==============================] - 1s 11ms/step - loss: 0.1877 - binary_accuracy: 0.9287 - val_loss: 0.2073 - val_binary_accuracy: 0.9220\n",
            "Epoch 294/500\n",
            "106/106 [==============================] - 1s 11ms/step - loss: 0.1915 - binary_accuracy: 0.9275 - val_loss: 0.2007 - val_binary_accuracy: 0.9234\n",
            "Epoch 295/500\n",
            "106/106 [==============================] - 1s 11ms/step - loss: 0.1915 - binary_accuracy: 0.9268 - val_loss: 0.2679 - val_binary_accuracy: 0.8987\n",
            "Epoch 296/500\n",
            "106/106 [==============================] - 1s 11ms/step - loss: 0.1879 - binary_accuracy: 0.9289 - val_loss: 0.2069 - val_binary_accuracy: 0.9247\n",
            "Epoch 297/500\n",
            "106/106 [==============================] - 1s 11ms/step - loss: 0.1883 - binary_accuracy: 0.9295 - val_loss: 0.2108 - val_binary_accuracy: 0.9219\n",
            "Epoch 298/500\n",
            "106/106 [==============================] - 1s 11ms/step - loss: 0.1885 - binary_accuracy: 0.9282 - val_loss: 0.2347 - val_binary_accuracy: 0.9166\n",
            "Epoch 299/500\n",
            "106/106 [==============================] - 1s 11ms/step - loss: 0.1878 - binary_accuracy: 0.9288 - val_loss: 0.2108 - val_binary_accuracy: 0.9218\n",
            "Epoch 300/500\n",
            "106/106 [==============================] - 1s 11ms/step - loss: 0.1881 - binary_accuracy: 0.9289 - val_loss: 0.2117 - val_binary_accuracy: 0.9243\n",
            "Epoch 301/500\n",
            "106/106 [==============================] - 1s 11ms/step - loss: 0.1890 - binary_accuracy: 0.9287 - val_loss: 0.2043 - val_binary_accuracy: 0.9255\n",
            "Epoch 302/500\n",
            "106/106 [==============================] - 1s 11ms/step - loss: 0.1898 - binary_accuracy: 0.9283 - val_loss: 0.2107 - val_binary_accuracy: 0.9214\n",
            "Epoch 303/500\n",
            "106/106 [==============================] - 1s 11ms/step - loss: 0.1860 - binary_accuracy: 0.9299 - val_loss: 0.2057 - val_binary_accuracy: 0.9247\n",
            "Epoch 304/500\n",
            "106/106 [==============================] - 1s 11ms/step - loss: 0.1879 - binary_accuracy: 0.9287 - val_loss: 0.2246 - val_binary_accuracy: 0.9126\n",
            "Epoch 305/500\n",
            "106/106 [==============================] - 1s 11ms/step - loss: 0.1894 - binary_accuracy: 0.9281 - val_loss: 0.2449 - val_binary_accuracy: 0.9109\n",
            "Epoch 306/500\n",
            "106/106 [==============================] - 1s 11ms/step - loss: 0.1887 - binary_accuracy: 0.9288 - val_loss: 0.2188 - val_binary_accuracy: 0.9191\n",
            "Epoch 307/500\n",
            "106/106 [==============================] - 1s 11ms/step - loss: 0.1921 - binary_accuracy: 0.9276 - val_loss: 0.2775 - val_binary_accuracy: 0.8996\n",
            "Epoch 308/500\n",
            "106/106 [==============================] - 1s 11ms/step - loss: 0.1904 - binary_accuracy: 0.9275 - val_loss: 0.2130 - val_binary_accuracy: 0.9196\n",
            "Epoch 309/500\n",
            "106/106 [==============================] - 1s 11ms/step - loss: 0.1878 - binary_accuracy: 0.9290 - val_loss: 0.2162 - val_binary_accuracy: 0.9194\n",
            "Epoch 310/500\n",
            "106/106 [==============================] - 1s 11ms/step - loss: 0.1869 - binary_accuracy: 0.9296 - val_loss: 0.2168 - val_binary_accuracy: 0.9213\n",
            "Epoch 311/500\n",
            "106/106 [==============================] - 1s 11ms/step - loss: 0.1873 - binary_accuracy: 0.9288 - val_loss: 0.2433 - val_binary_accuracy: 0.9110\n",
            "Epoch 312/500\n",
            "106/106 [==============================] - 1s 11ms/step - loss: 0.1896 - binary_accuracy: 0.9286 - val_loss: 0.2095 - val_binary_accuracy: 0.9199\n",
            "Epoch 313/500\n",
            "106/106 [==============================] - 1s 11ms/step - loss: 0.1881 - binary_accuracy: 0.9295 - val_loss: 0.2107 - val_binary_accuracy: 0.9204\n",
            "Epoch 314/500\n",
            "106/106 [==============================] - 1s 11ms/step - loss: 0.1893 - binary_accuracy: 0.9288 - val_loss: 0.2170 - val_binary_accuracy: 0.9188\n",
            "Epoch 315/500\n",
            "106/106 [==============================] - 1s 11ms/step - loss: 0.1879 - binary_accuracy: 0.9292 - val_loss: 0.2540 - val_binary_accuracy: 0.8989\n",
            "Epoch 316/500\n",
            "106/106 [==============================] - 1s 11ms/step - loss: 0.1857 - binary_accuracy: 0.9298 - val_loss: 0.2124 - val_binary_accuracy: 0.9202\n",
            "Epoch 317/500\n",
            "106/106 [==============================] - 1s 11ms/step - loss: 0.1858 - binary_accuracy: 0.9305 - val_loss: 0.2467 - val_binary_accuracy: 0.9042\n",
            "Epoch 318/500\n",
            "106/106 [==============================] - 1s 11ms/step - loss: 0.1866 - binary_accuracy: 0.9299 - val_loss: 0.2167 - val_binary_accuracy: 0.9200\n",
            "Epoch 319/500\n",
            "106/106 [==============================] - 1s 11ms/step - loss: 0.1896 - binary_accuracy: 0.9288 - val_loss: 0.2064 - val_binary_accuracy: 0.9234\n",
            "Epoch 320/500\n",
            "106/106 [==============================] - 1s 11ms/step - loss: 0.1905 - binary_accuracy: 0.9284 - val_loss: 0.2842 - val_binary_accuracy: 0.8912\n",
            "Epoch 321/500\n",
            "106/106 [==============================] - 1s 11ms/step - loss: 0.1890 - binary_accuracy: 0.9289 - val_loss: 0.2166 - val_binary_accuracy: 0.9185\n",
            "Epoch 322/500\n",
            "106/106 [==============================] - 1s 11ms/step - loss: 0.1877 - binary_accuracy: 0.9298 - val_loss: 0.2194 - val_binary_accuracy: 0.9162\n",
            "Epoch 323/500\n",
            "106/106 [==============================] - 1s 11ms/step - loss: 0.1869 - binary_accuracy: 0.9295 - val_loss: 0.2388 - val_binary_accuracy: 0.9034\n",
            "Epoch 324/500\n",
            "106/106 [==============================] - 1s 12ms/step - loss: 0.1855 - binary_accuracy: 0.9305 - val_loss: 0.2159 - val_binary_accuracy: 0.9195\n",
            "Epoch 325/500\n",
            "106/106 [==============================] - 1s 11ms/step - loss: 0.1871 - binary_accuracy: 0.9289 - val_loss: 0.2069 - val_binary_accuracy: 0.9213\n",
            "Epoch 326/500\n",
            "106/106 [==============================] - 1s 11ms/step - loss: 0.1873 - binary_accuracy: 0.9296 - val_loss: 0.2108 - val_binary_accuracy: 0.9207\n",
            "Epoch 327/500\n",
            "106/106 [==============================] - 1s 11ms/step - loss: 0.1838 - binary_accuracy: 0.9310 - val_loss: 0.2101 - val_binary_accuracy: 0.9189\n",
            "Epoch 328/500\n",
            "106/106 [==============================] - 1s 11ms/step - loss: 0.1864 - binary_accuracy: 0.9301 - val_loss: 0.2216 - val_binary_accuracy: 0.9199\n",
            "Epoch 329/500\n",
            "106/106 [==============================] - 1s 11ms/step - loss: 0.1857 - binary_accuracy: 0.9304 - val_loss: 0.2029 - val_binary_accuracy: 0.9252\n",
            "Epoch 330/500\n",
            "106/106 [==============================] - 1s 11ms/step - loss: 0.1864 - binary_accuracy: 0.9298 - val_loss: 0.2168 - val_binary_accuracy: 0.9170\n",
            "Epoch 331/500\n",
            "106/106 [==============================] - 1s 11ms/step - loss: 0.1881 - binary_accuracy: 0.9290 - val_loss: 0.2363 - val_binary_accuracy: 0.9121\n",
            "Epoch 332/500\n",
            "106/106 [==============================] - 1s 11ms/step - loss: 0.1876 - binary_accuracy: 0.9298 - val_loss: 0.2525 - val_binary_accuracy: 0.8956\n",
            "Epoch 333/500\n",
            "106/106 [==============================] - 1s 11ms/step - loss: 0.1864 - binary_accuracy: 0.9296 - val_loss: 0.2023 - val_binary_accuracy: 0.9227\n",
            "Epoch 334/500\n",
            "106/106 [==============================] - 1s 11ms/step - loss: 0.1863 - binary_accuracy: 0.9300 - val_loss: 0.1981 - val_binary_accuracy: 0.9254\n",
            "Epoch 335/500\n",
            "106/106 [==============================] - 1s 11ms/step - loss: 0.1850 - binary_accuracy: 0.9302 - val_loss: 0.2032 - val_binary_accuracy: 0.9254\n",
            "Epoch 336/500\n",
            "106/106 [==============================] - 1s 11ms/step - loss: 0.1836 - binary_accuracy: 0.9313 - val_loss: 0.2673 - val_binary_accuracy: 0.8891\n",
            "Epoch 337/500\n",
            "106/106 [==============================] - 1s 11ms/step - loss: 0.1832 - binary_accuracy: 0.9309 - val_loss: 0.2179 - val_binary_accuracy: 0.9193\n",
            "Epoch 338/500\n",
            "106/106 [==============================] - 1s 11ms/step - loss: 0.1838 - binary_accuracy: 0.9316 - val_loss: 0.2367 - val_binary_accuracy: 0.9100\n",
            "Epoch 339/500\n",
            "106/106 [==============================] - 1s 11ms/step - loss: 0.1861 - binary_accuracy: 0.9301 - val_loss: 0.2000 - val_binary_accuracy: 0.9257\n",
            "Epoch 340/500\n",
            "106/106 [==============================] - 1s 11ms/step - loss: 0.1895 - binary_accuracy: 0.9285 - val_loss: 0.2149 - val_binary_accuracy: 0.9173\n",
            "Epoch 341/500\n",
            "106/106 [==============================] - 1s 11ms/step - loss: 0.1860 - binary_accuracy: 0.9296 - val_loss: 0.2056 - val_binary_accuracy: 0.9224\n",
            "Epoch 342/500\n",
            "106/106 [==============================] - 1s 11ms/step - loss: 0.1820 - binary_accuracy: 0.9314 - val_loss: 0.2137 - val_binary_accuracy: 0.9210\n",
            "Epoch 343/500\n",
            "106/106 [==============================] - 1s 11ms/step - loss: 0.1853 - binary_accuracy: 0.9303 - val_loss: 0.2015 - val_binary_accuracy: 0.9250\n",
            "Epoch 344/500\n",
            "106/106 [==============================] - 1s 11ms/step - loss: 0.1843 - binary_accuracy: 0.9309 - val_loss: 0.2220 - val_binary_accuracy: 0.9150\n",
            "Epoch 345/500\n",
            "106/106 [==============================] - 1s 11ms/step - loss: 0.1867 - binary_accuracy: 0.9299 - val_loss: 0.2105 - val_binary_accuracy: 0.9213\n",
            "Epoch 346/500\n",
            "106/106 [==============================] - 1s 11ms/step - loss: 0.1831 - binary_accuracy: 0.9307 - val_loss: 0.2868 - val_binary_accuracy: 0.8870\n",
            "Epoch 347/500\n",
            "106/106 [==============================] - 1s 11ms/step - loss: 0.1852 - binary_accuracy: 0.9296 - val_loss: 0.1973 - val_binary_accuracy: 0.9250\n",
            "Epoch 348/500\n",
            "106/106 [==============================] - 1s 11ms/step - loss: 0.1835 - binary_accuracy: 0.9311 - val_loss: 0.2773 - val_binary_accuracy: 0.8946\n",
            "Epoch 349/500\n",
            "106/106 [==============================] - 1s 11ms/step - loss: 0.1822 - binary_accuracy: 0.9317 - val_loss: 0.2010 - val_binary_accuracy: 0.9243\n",
            "Epoch 350/500\n",
            "106/106 [==============================] - 1s 11ms/step - loss: 0.1818 - binary_accuracy: 0.9315 - val_loss: 0.2027 - val_binary_accuracy: 0.9257\n",
            "Epoch 351/500\n",
            "106/106 [==============================] - 1s 11ms/step - loss: 0.1837 - binary_accuracy: 0.9307 - val_loss: 0.2255 - val_binary_accuracy: 0.9126\n",
            "Epoch 352/500\n",
            "106/106 [==============================] - 1s 11ms/step - loss: 0.1854 - binary_accuracy: 0.9295 - val_loss: 0.2151 - val_binary_accuracy: 0.9224\n",
            "Epoch 353/500\n",
            "106/106 [==============================] - 1s 11ms/step - loss: 0.1841 - binary_accuracy: 0.9304 - val_loss: 0.2049 - val_binary_accuracy: 0.9228\n",
            "Epoch 354/500\n",
            "106/106 [==============================] - 1s 11ms/step - loss: 0.1802 - binary_accuracy: 0.9323 - val_loss: 0.2089 - val_binary_accuracy: 0.9228\n",
            "Epoch 355/500\n",
            "106/106 [==============================] - 1s 11ms/step - loss: 0.1821 - binary_accuracy: 0.9311 - val_loss: 0.2238 - val_binary_accuracy: 0.9233\n",
            "Epoch 356/500\n",
            "106/106 [==============================] - 1s 11ms/step - loss: 0.1875 - binary_accuracy: 0.9294 - val_loss: 0.2044 - val_binary_accuracy: 0.9240\n",
            "Epoch 357/500\n",
            "106/106 [==============================] - 1s 11ms/step - loss: 0.1861 - binary_accuracy: 0.9301 - val_loss: 0.2183 - val_binary_accuracy: 0.9198\n",
            "Epoch 358/500\n",
            "106/106 [==============================] - 1s 11ms/step - loss: 0.1832 - binary_accuracy: 0.9308 - val_loss: 0.2017 - val_binary_accuracy: 0.9248\n",
            "Epoch 359/500\n",
            "106/106 [==============================] - 1s 11ms/step - loss: 0.1831 - binary_accuracy: 0.9310 - val_loss: 0.2048 - val_binary_accuracy: 0.9234\n",
            "Epoch 360/500\n",
            "106/106 [==============================] - 1s 11ms/step - loss: 0.1820 - binary_accuracy: 0.9316 - val_loss: 0.2008 - val_binary_accuracy: 0.9253\n",
            "Epoch 361/500\n",
            "106/106 [==============================] - 1s 11ms/step - loss: 0.1843 - binary_accuracy: 0.9305 - val_loss: 0.2185 - val_binary_accuracy: 0.9192\n",
            "Epoch 362/500\n",
            "106/106 [==============================] - 1s 11ms/step - loss: 0.1834 - binary_accuracy: 0.9305 - val_loss: 0.2888 - val_binary_accuracy: 0.9005\n",
            "Epoch 363/500\n",
            "106/106 [==============================] - 1s 11ms/step - loss: 0.1833 - binary_accuracy: 0.9307 - val_loss: 0.2032 - val_binary_accuracy: 0.9243\n",
            "Epoch 364/500\n",
            "106/106 [==============================] - 1s 11ms/step - loss: 0.1815 - binary_accuracy: 0.9312 - val_loss: 0.2102 - val_binary_accuracy: 0.9234\n",
            "Epoch 365/500\n",
            "106/106 [==============================] - 1s 11ms/step - loss: 0.1798 - binary_accuracy: 0.9327 - val_loss: 0.2199 - val_binary_accuracy: 0.9150\n",
            "Epoch 366/500\n",
            "106/106 [==============================] - 1s 11ms/step - loss: 0.1844 - binary_accuracy: 0.9305 - val_loss: 0.2168 - val_binary_accuracy: 0.9202\n",
            "Epoch 367/500\n",
            " 86/106 [=======================>......] - ETA: 0s - loss: 0.1819 - binary_accuracy: 0.9312"
          ]
        },
        {
          "ename": "KeyboardInterrupt",
          "evalue": "ignored",
          "output_type": "error",
          "traceback": [
            "\u001b[0;31m---------------------------------------------------------------------------\u001b[0m",
            "\u001b[0;31mKeyboardInterrupt\u001b[0m                         Traceback (most recent call last)",
            "\u001b[0;32m<ipython-input-97-ef9acce0f27a>\u001b[0m in \u001b[0;36m<cell line: 3>\u001b[0;34m()\u001b[0m\n\u001b[1;32m      1\u001b[0m \u001b[0;31m# Compile and fit the model\u001b[0m\u001b[0;34m\u001b[0m\u001b[0;34m\u001b[0m\u001b[0m\n\u001b[1;32m      2\u001b[0m \u001b[0mmodel\u001b[0m\u001b[0;34m.\u001b[0m\u001b[0mcompile\u001b[0m\u001b[0;34m(\u001b[0m\u001b[0mloss\u001b[0m\u001b[0;34m=\u001b[0m\u001b[0mtf\u001b[0m\u001b[0;34m.\u001b[0m\u001b[0mkeras\u001b[0m\u001b[0;34m.\u001b[0m\u001b[0mlosses\u001b[0m\u001b[0;34m.\u001b[0m\u001b[0mBinaryCrossentropy\u001b[0m\u001b[0;34m(\u001b[0m\u001b[0;34m)\u001b[0m\u001b[0;34m,\u001b[0m \u001b[0moptimizer\u001b[0m\u001b[0;34m=\u001b[0m\u001b[0mtf\u001b[0m\u001b[0;34m.\u001b[0m\u001b[0mkeras\u001b[0m\u001b[0;34m.\u001b[0m\u001b[0moptimizers\u001b[0m\u001b[0;34m.\u001b[0m\u001b[0mAdam\u001b[0m\u001b[0;34m(\u001b[0m\u001b[0mlearning_rate\u001b[0m\u001b[0;34m=\u001b[0m\u001b[0;36m0.001\u001b[0m\u001b[0;34m)\u001b[0m\u001b[0;34m,\u001b[0m \u001b[0mmetrics\u001b[0m\u001b[0;34m=\u001b[0m\u001b[0;34m[\u001b[0m\u001b[0mtf\u001b[0m\u001b[0;34m.\u001b[0m\u001b[0mkeras\u001b[0m\u001b[0;34m.\u001b[0m\u001b[0mmetrics\u001b[0m\u001b[0;34m.\u001b[0m\u001b[0mBinaryAccuracy\u001b[0m\u001b[0;34m(\u001b[0m\u001b[0;34m)\u001b[0m\u001b[0;34m]\u001b[0m\u001b[0;34m)\u001b[0m\u001b[0;34m\u001b[0m\u001b[0;34m\u001b[0m\u001b[0m\n\u001b[0;32m----> 3\u001b[0;31m \u001b[0mhistory\u001b[0m\u001b[0;34m=\u001b[0m\u001b[0mmodel\u001b[0m\u001b[0;34m.\u001b[0m\u001b[0mfit\u001b[0m\u001b[0;34m(\u001b[0m\u001b[0mxTrainFinal\u001b[0m\u001b[0;34m,\u001b[0m \u001b[0myTrainFinal\u001b[0m\u001b[0;34m,\u001b[0m \u001b[0mepochs\u001b[0m\u001b[0;34m=\u001b[0m\u001b[0;36m500\u001b[0m\u001b[0;34m,\u001b[0m \u001b[0mbatch_size\u001b[0m\u001b[0;34m=\u001b[0m\u001b[0;36m1024\u001b[0m\u001b[0;34m,\u001b[0m \u001b[0mvalidation_data\u001b[0m\u001b[0;34m=\u001b[0m\u001b[0;34m(\u001b[0m\u001b[0mxValFinal\u001b[0m\u001b[0;34m,\u001b[0m\u001b[0myValFinal\u001b[0m\u001b[0;34m)\u001b[0m\u001b[0;34m,\u001b[0m \u001b[0mverbose\u001b[0m\u001b[0;34m=\u001b[0m\u001b[0;36m1\u001b[0m\u001b[0;34m)\u001b[0m\u001b[0;34m\u001b[0m\u001b[0;34m\u001b[0m\u001b[0m\n\u001b[0m",
            "\u001b[0;32m/usr/local/lib/python3.9/dist-packages/keras/utils/traceback_utils.py\u001b[0m in \u001b[0;36merror_handler\u001b[0;34m(*args, **kwargs)\u001b[0m\n\u001b[1;32m     63\u001b[0m         \u001b[0mfiltered_tb\u001b[0m \u001b[0;34m=\u001b[0m \u001b[0;32mNone\u001b[0m\u001b[0;34m\u001b[0m\u001b[0;34m\u001b[0m\u001b[0m\n\u001b[1;32m     64\u001b[0m         \u001b[0;32mtry\u001b[0m\u001b[0;34m:\u001b[0m\u001b[0;34m\u001b[0m\u001b[0;34m\u001b[0m\u001b[0m\n\u001b[0;32m---> 65\u001b[0;31m             \u001b[0;32mreturn\u001b[0m \u001b[0mfn\u001b[0m\u001b[0;34m(\u001b[0m\u001b[0;34m*\u001b[0m\u001b[0margs\u001b[0m\u001b[0;34m,\u001b[0m \u001b[0;34m**\u001b[0m\u001b[0mkwargs\u001b[0m\u001b[0;34m)\u001b[0m\u001b[0;34m\u001b[0m\u001b[0;34m\u001b[0m\u001b[0m\n\u001b[0m\u001b[1;32m     66\u001b[0m         \u001b[0;32mexcept\u001b[0m \u001b[0mException\u001b[0m \u001b[0;32mas\u001b[0m \u001b[0me\u001b[0m\u001b[0;34m:\u001b[0m\u001b[0;34m\u001b[0m\u001b[0;34m\u001b[0m\u001b[0m\n\u001b[1;32m     67\u001b[0m             \u001b[0mfiltered_tb\u001b[0m \u001b[0;34m=\u001b[0m \u001b[0m_process_traceback_frames\u001b[0m\u001b[0;34m(\u001b[0m\u001b[0me\u001b[0m\u001b[0;34m.\u001b[0m\u001b[0m__traceback__\u001b[0m\u001b[0;34m)\u001b[0m\u001b[0;34m\u001b[0m\u001b[0;34m\u001b[0m\u001b[0m\n",
            "\u001b[0;32m/usr/local/lib/python3.9/dist-packages/keras/engine/training.py\u001b[0m in \u001b[0;36mfit\u001b[0;34m(self, x, y, batch_size, epochs, verbose, callbacks, validation_split, validation_data, shuffle, class_weight, sample_weight, initial_epoch, steps_per_epoch, validation_steps, validation_batch_size, validation_freq, max_queue_size, workers, use_multiprocessing)\u001b[0m\n\u001b[1;32m   1683\u001b[0m                         ):\n\u001b[1;32m   1684\u001b[0m                             \u001b[0mcallbacks\u001b[0m\u001b[0;34m.\u001b[0m\u001b[0mon_train_batch_begin\u001b[0m\u001b[0;34m(\u001b[0m\u001b[0mstep\u001b[0m\u001b[0;34m)\u001b[0m\u001b[0;34m\u001b[0m\u001b[0;34m\u001b[0m\u001b[0m\n\u001b[0;32m-> 1685\u001b[0;31m                             \u001b[0mtmp_logs\u001b[0m \u001b[0;34m=\u001b[0m \u001b[0mself\u001b[0m\u001b[0;34m.\u001b[0m\u001b[0mtrain_function\u001b[0m\u001b[0;34m(\u001b[0m\u001b[0miterator\u001b[0m\u001b[0;34m)\u001b[0m\u001b[0;34m\u001b[0m\u001b[0;34m\u001b[0m\u001b[0m\n\u001b[0m\u001b[1;32m   1686\u001b[0m                             \u001b[0;32mif\u001b[0m \u001b[0mdata_handler\u001b[0m\u001b[0;34m.\u001b[0m\u001b[0mshould_sync\u001b[0m\u001b[0;34m:\u001b[0m\u001b[0;34m\u001b[0m\u001b[0;34m\u001b[0m\u001b[0m\n\u001b[1;32m   1687\u001b[0m                                 \u001b[0mcontext\u001b[0m\u001b[0;34m.\u001b[0m\u001b[0masync_wait\u001b[0m\u001b[0;34m(\u001b[0m\u001b[0;34m)\u001b[0m\u001b[0;34m\u001b[0m\u001b[0;34m\u001b[0m\u001b[0m\n",
            "\u001b[0;32m/usr/local/lib/python3.9/dist-packages/tensorflow/python/util/traceback_utils.py\u001b[0m in \u001b[0;36merror_handler\u001b[0;34m(*args, **kwargs)\u001b[0m\n\u001b[1;32m    148\u001b[0m     \u001b[0mfiltered_tb\u001b[0m \u001b[0;34m=\u001b[0m \u001b[0;32mNone\u001b[0m\u001b[0;34m\u001b[0m\u001b[0;34m\u001b[0m\u001b[0m\n\u001b[1;32m    149\u001b[0m     \u001b[0;32mtry\u001b[0m\u001b[0;34m:\u001b[0m\u001b[0;34m\u001b[0m\u001b[0;34m\u001b[0m\u001b[0m\n\u001b[0;32m--> 150\u001b[0;31m       \u001b[0;32mreturn\u001b[0m \u001b[0mfn\u001b[0m\u001b[0;34m(\u001b[0m\u001b[0;34m*\u001b[0m\u001b[0margs\u001b[0m\u001b[0;34m,\u001b[0m \u001b[0;34m**\u001b[0m\u001b[0mkwargs\u001b[0m\u001b[0;34m)\u001b[0m\u001b[0;34m\u001b[0m\u001b[0;34m\u001b[0m\u001b[0m\n\u001b[0m\u001b[1;32m    151\u001b[0m     \u001b[0;32mexcept\u001b[0m \u001b[0mException\u001b[0m \u001b[0;32mas\u001b[0m \u001b[0me\u001b[0m\u001b[0;34m:\u001b[0m\u001b[0;34m\u001b[0m\u001b[0;34m\u001b[0m\u001b[0m\n\u001b[1;32m    152\u001b[0m       \u001b[0mfiltered_tb\u001b[0m \u001b[0;34m=\u001b[0m \u001b[0m_process_traceback_frames\u001b[0m\u001b[0;34m(\u001b[0m\u001b[0me\u001b[0m\u001b[0;34m.\u001b[0m\u001b[0m__traceback__\u001b[0m\u001b[0;34m)\u001b[0m\u001b[0;34m\u001b[0m\u001b[0;34m\u001b[0m\u001b[0m\n",
            "\u001b[0;32m/usr/local/lib/python3.9/dist-packages/tensorflow/python/eager/polymorphic_function/polymorphic_function.py\u001b[0m in \u001b[0;36m__call__\u001b[0;34m(self, *args, **kwds)\u001b[0m\n\u001b[1;32m    892\u001b[0m \u001b[0;34m\u001b[0m\u001b[0m\n\u001b[1;32m    893\u001b[0m       \u001b[0;32mwith\u001b[0m \u001b[0mOptionalXlaContext\u001b[0m\u001b[0;34m(\u001b[0m\u001b[0mself\u001b[0m\u001b[0;34m.\u001b[0m\u001b[0m_jit_compile\u001b[0m\u001b[0;34m)\u001b[0m\u001b[0;34m:\u001b[0m\u001b[0;34m\u001b[0m\u001b[0;34m\u001b[0m\u001b[0m\n\u001b[0;32m--> 894\u001b[0;31m         \u001b[0mresult\u001b[0m \u001b[0;34m=\u001b[0m \u001b[0mself\u001b[0m\u001b[0;34m.\u001b[0m\u001b[0m_call\u001b[0m\u001b[0;34m(\u001b[0m\u001b[0;34m*\u001b[0m\u001b[0margs\u001b[0m\u001b[0;34m,\u001b[0m \u001b[0;34m**\u001b[0m\u001b[0mkwds\u001b[0m\u001b[0;34m)\u001b[0m\u001b[0;34m\u001b[0m\u001b[0;34m\u001b[0m\u001b[0m\n\u001b[0m\u001b[1;32m    895\u001b[0m \u001b[0;34m\u001b[0m\u001b[0m\n\u001b[1;32m    896\u001b[0m       \u001b[0mnew_tracing_count\u001b[0m \u001b[0;34m=\u001b[0m \u001b[0mself\u001b[0m\u001b[0;34m.\u001b[0m\u001b[0mexperimental_get_tracing_count\u001b[0m\u001b[0;34m(\u001b[0m\u001b[0;34m)\u001b[0m\u001b[0;34m\u001b[0m\u001b[0;34m\u001b[0m\u001b[0m\n",
            "\u001b[0;32m/usr/local/lib/python3.9/dist-packages/tensorflow/python/eager/polymorphic_function/polymorphic_function.py\u001b[0m in \u001b[0;36m_call\u001b[0;34m(self, *args, **kwds)\u001b[0m\n\u001b[1;32m    924\u001b[0m       \u001b[0;31m# In this case we have created variables on the first call, so we run the\u001b[0m\u001b[0;34m\u001b[0m\u001b[0;34m\u001b[0m\u001b[0m\n\u001b[1;32m    925\u001b[0m       \u001b[0;31m# defunned version which is guaranteed to never create variables.\u001b[0m\u001b[0;34m\u001b[0m\u001b[0;34m\u001b[0m\u001b[0m\n\u001b[0;32m--> 926\u001b[0;31m       \u001b[0;32mreturn\u001b[0m \u001b[0mself\u001b[0m\u001b[0;34m.\u001b[0m\u001b[0m_no_variable_creation_fn\u001b[0m\u001b[0;34m(\u001b[0m\u001b[0;34m*\u001b[0m\u001b[0margs\u001b[0m\u001b[0;34m,\u001b[0m \u001b[0;34m**\u001b[0m\u001b[0mkwds\u001b[0m\u001b[0;34m)\u001b[0m  \u001b[0;31m# pylint: disable=not-callable\u001b[0m\u001b[0;34m\u001b[0m\u001b[0;34m\u001b[0m\u001b[0m\n\u001b[0m\u001b[1;32m    927\u001b[0m     \u001b[0;32melif\u001b[0m \u001b[0mself\u001b[0m\u001b[0;34m.\u001b[0m\u001b[0m_variable_creation_fn\u001b[0m \u001b[0;32mis\u001b[0m \u001b[0;32mnot\u001b[0m \u001b[0;32mNone\u001b[0m\u001b[0;34m:\u001b[0m\u001b[0;34m\u001b[0m\u001b[0;34m\u001b[0m\u001b[0m\n\u001b[1;32m    928\u001b[0m       \u001b[0;31m# Release the lock early so that multiple threads can perform the call\u001b[0m\u001b[0;34m\u001b[0m\u001b[0;34m\u001b[0m\u001b[0m\n",
            "\u001b[0;32m/usr/local/lib/python3.9/dist-packages/tensorflow/python/eager/polymorphic_function/tracing_compiler.py\u001b[0m in \u001b[0;36m__call__\u001b[0;34m(self, *args, **kwargs)\u001b[0m\n\u001b[1;32m    141\u001b[0m       (concrete_function,\n\u001b[1;32m    142\u001b[0m        filtered_flat_args) = self._maybe_define_function(args, kwargs)\n\u001b[0;32m--> 143\u001b[0;31m     return concrete_function._call_flat(\n\u001b[0m\u001b[1;32m    144\u001b[0m         filtered_flat_args, captured_inputs=concrete_function.captured_inputs)  # pylint: disable=protected-access\n\u001b[1;32m    145\u001b[0m \u001b[0;34m\u001b[0m\u001b[0m\n",
            "\u001b[0;32m/usr/local/lib/python3.9/dist-packages/tensorflow/python/eager/polymorphic_function/monomorphic_function.py\u001b[0m in \u001b[0;36m_call_flat\u001b[0;34m(self, args, captured_inputs, cancellation_manager)\u001b[0m\n\u001b[1;32m   1755\u001b[0m         and executing_eagerly):\n\u001b[1;32m   1756\u001b[0m       \u001b[0;31m# No tape is watching; skip to running the function.\u001b[0m\u001b[0;34m\u001b[0m\u001b[0;34m\u001b[0m\u001b[0m\n\u001b[0;32m-> 1757\u001b[0;31m       return self._build_call_outputs(self._inference_function.call(\n\u001b[0m\u001b[1;32m   1758\u001b[0m           ctx, args, cancellation_manager=cancellation_manager))\n\u001b[1;32m   1759\u001b[0m     forward_backward = self._select_forward_and_backward_functions(\n",
            "\u001b[0;32m/usr/local/lib/python3.9/dist-packages/tensorflow/python/eager/polymorphic_function/monomorphic_function.py\u001b[0m in \u001b[0;36mcall\u001b[0;34m(self, ctx, args, cancellation_manager)\u001b[0m\n\u001b[1;32m    379\u001b[0m       \u001b[0;32mwith\u001b[0m \u001b[0m_InterpolateFunctionError\u001b[0m\u001b[0;34m(\u001b[0m\u001b[0mself\u001b[0m\u001b[0;34m)\u001b[0m\u001b[0;34m:\u001b[0m\u001b[0;34m\u001b[0m\u001b[0;34m\u001b[0m\u001b[0m\n\u001b[1;32m    380\u001b[0m         \u001b[0;32mif\u001b[0m \u001b[0mcancellation_manager\u001b[0m \u001b[0;32mis\u001b[0m \u001b[0;32mNone\u001b[0m\u001b[0;34m:\u001b[0m\u001b[0;34m\u001b[0m\u001b[0;34m\u001b[0m\u001b[0m\n\u001b[0;32m--> 381\u001b[0;31m           outputs = execute.execute(\n\u001b[0m\u001b[1;32m    382\u001b[0m               \u001b[0mstr\u001b[0m\u001b[0;34m(\u001b[0m\u001b[0mself\u001b[0m\u001b[0;34m.\u001b[0m\u001b[0msignature\u001b[0m\u001b[0;34m.\u001b[0m\u001b[0mname\u001b[0m\u001b[0;34m)\u001b[0m\u001b[0;34m,\u001b[0m\u001b[0;34m\u001b[0m\u001b[0;34m\u001b[0m\u001b[0m\n\u001b[1;32m    383\u001b[0m               \u001b[0mnum_outputs\u001b[0m\u001b[0;34m=\u001b[0m\u001b[0mself\u001b[0m\u001b[0;34m.\u001b[0m\u001b[0m_num_outputs\u001b[0m\u001b[0;34m,\u001b[0m\u001b[0;34m\u001b[0m\u001b[0;34m\u001b[0m\u001b[0m\n",
            "\u001b[0;32m/usr/local/lib/python3.9/dist-packages/tensorflow/python/eager/execute.py\u001b[0m in \u001b[0;36mquick_execute\u001b[0;34m(op_name, num_outputs, inputs, attrs, ctx, name)\u001b[0m\n\u001b[1;32m     50\u001b[0m   \u001b[0;32mtry\u001b[0m\u001b[0;34m:\u001b[0m\u001b[0;34m\u001b[0m\u001b[0;34m\u001b[0m\u001b[0m\n\u001b[1;32m     51\u001b[0m     \u001b[0mctx\u001b[0m\u001b[0;34m.\u001b[0m\u001b[0mensure_initialized\u001b[0m\u001b[0;34m(\u001b[0m\u001b[0;34m)\u001b[0m\u001b[0;34m\u001b[0m\u001b[0;34m\u001b[0m\u001b[0m\n\u001b[0;32m---> 52\u001b[0;31m     tensors = pywrap_tfe.TFE_Py_Execute(ctx._handle, device_name, op_name,\n\u001b[0m\u001b[1;32m     53\u001b[0m                                         inputs, attrs, num_outputs)\n\u001b[1;32m     54\u001b[0m   \u001b[0;32mexcept\u001b[0m \u001b[0mcore\u001b[0m\u001b[0;34m.\u001b[0m\u001b[0m_NotOkStatusException\u001b[0m \u001b[0;32mas\u001b[0m \u001b[0me\u001b[0m\u001b[0;34m:\u001b[0m\u001b[0;34m\u001b[0m\u001b[0;34m\u001b[0m\u001b[0m\n",
            "\u001b[0;31mKeyboardInterrupt\u001b[0m: "
          ]
        }
      ],
      "source": [
        "# Compile and fit the model\n",
        "model.compile(loss=tf.keras.losses.BinaryCrossentropy(), optimizer=tf.keras.optimizers.Adam(learning_rate=0.001), metrics=[tf.keras.metrics.BinaryAccuracy()])\n",
        "history=model.fit(xTrainFinal, yTrainFinal, epochs=500, batch_size=1024, validation_data=(xValFinal,yValFinal), verbose=1)"
      ]
    },
    {
      "cell_type": "code",
      "execution_count": null,
      "metadata": {
        "id": "MGaQvDw3QZfx"
      },
      "outputs": [],
      "source": [
        "# # save the model and history\n",
        "# model.save('/content/drive/My Drive/Apnea Data/St. Vincent Hospital/Saved Models/finalModel12Sec_10Thresh_SMOTE_VincenctandApnea.hdf5')\n",
        "# # save the history\n",
        "# hist_df = pd.DataFrame(history.history)\n",
        "# hist_df.to_csv('/content/drive/My Drive/Apnea Data/St. Vincent Hospital/Saved Models/finalModel12Sec_10Thresh_SMOTE_VincenctandApnea.csv')"
      ]
    },
    {
      "cell_type": "code",
      "execution_count": null,
      "metadata": {
        "colab": {
          "base_uri": "https://localhost:8080/",
          "height": 490
        },
        "id": "_341j2hw6oqo",
        "outputId": "52f70452-77dd-46ce-9156-e3c013ebf7f9"
      },
      "outputs": [
        {
          "data": {
            "text/plain": [
              "<matplotlib.legend.Legend at 0x7f20a6f0a730>"
            ]
          },
          "execution_count": 82,
          "metadata": {},
          "output_type": "execute_result"
        },
        {
          "data": {
            "image/png": "[encoded data removed]",
            "text/plain": [
              "<Figure size 640x480 with 1 Axes>"
            ]
          },
          "metadata": {},
          "output_type": "display_data"
        }
      ],
      "source": [
        "# Plot the loss curve\n",
        "plt.plot(history.history['loss'])\n",
        "plt.plot(history.history['val_loss'])\n",
        "plt.title(\"loss Curve\")\n",
        "plt.xlabel(\"Number of Epoch\")\n",
        "plt.ylabel(\"Loss\")\n",
        "plt.legend(['Training Loss','Validation Loss'])"
      ]
    },
    {
      "cell_type": "code",
      "execution_count": null,
      "metadata": {
        "id": "KOOn2ItBG0UH"
      },
      "outputs": [],
      "source": [
        "#model = load_model('/content/drive/My Drive/Apnea Data/St. Vincent Hospital/Saved Models/finalModel12Sec_10Thresh_SMOTE_VincenctandApnea.hdf5')\n",
        "layer_outputs = [layer.output for layer in model.layers]\n",
        "activation_model = Model(inputs=model.input, outputs=layer_outputs)\n"
      ]
    },
    {
      "cell_type": "code",
      "execution_count": null,
      "metadata": {
        "colab": {
          "base_uri": "https://localhost:8080/"
        },
        "id": "5w0HtZsBkeB7",
        "outputId": "339a4407-ab9f-400b-d355-7c233a8bb95c"
      },
      "outputs": [
        {
          "name": "stdout",
          "output_type": "stream",
          "text": [
            "batch_normalization_24 (1,)\n",
            "conv1d_68 (3, 1, 3)\n",
            "conv1d_69 (3, 3, 50)\n",
            "conv1d_70 (3, 50, 20)\n",
            "conv1d_71 (3, 20, 20)\n",
            "conv1d_72 (3, 20, 3)\n",
            "conv1d_73 (3, 3, 5)\n",
            "batch_normalization_25 (5,)\n",
            "batch_normalization_26 (190,)\n",
            "dense_7 (190, 1)\n"
          ]
        }
      ],
      "source": [
        "for layer in model.layers:\n",
        "    # Print the layer name and weight tensor shape (if it has weights)\n",
        "    if layer.weights:\n",
        "        print(layer.name, layer.get_weights()[0].shape)"
      ]
    },
    {
      "cell_type": "code",
      "execution_count": null,
      "metadata": {
        "colab": {
          "base_uri": "https://localhost:8080/"
        },
        "id": "zGpsjFX6KL3r",
        "outputId": "1dab95c5-eb38-42ca-ceb5-b70e2f3e7c0e"
      },
      "outputs": [
        {
          "data": {
            "text/plain": [
              "(1, 1536, 1)"
            ]
          },
          "execution_count": 84,
          "metadata": {},
          "output_type": "execute_result"
        }
      ],
      "source": [
        "test_segment = xTestFinal[9:10]\n",
        "test_segment=test_segment.reshape(1,test_segment.shape[1],test_segment.shape[0])\n",
        "test_segment.shape"
      ]
    },
    {
      "cell_type": "code",
      "execution_count": null,
      "metadata": {
        "colab": {
          "base_uri": "https://localhost:8080/"
        },
        "id": "mLtbvS7tKJYT",
        "outputId": "922b469b-369c-4f5c-c133-e2f7a8c99824"
      },
      "outputs": [
        {
          "name": "stdout",
          "output_type": "stream",
          "text": [
            "1/1 [==============================] - 0s 23ms/step\n",
            "1:\n",
            "(1, 1536, 1)\n",
            "2:\n",
            "(1, 1536, 1)\n",
            "3:\n",
            "(1, 768, 2)\n",
            "4:\n",
            "(1, 383, 50)\n",
            "5:\n",
            "(1, 191, 50)\n",
            "6:\n",
            "(1, 189, 20)\n",
            "7:\n",
            "(1, 187, 20)\n",
            "8:\n",
            "(1, 185, 20)\n",
            "9:\n",
            "(1, 184, 20)\n",
            "10:\n",
            "(1, 92, 2)\n",
            "11:\n",
            "(1, 90, 2)\n",
            "12:\n",
            "(1, 88, 5)\n",
            "13:\n",
            "(1, 43, 5)\n",
            "14:\n",
            "(1, 43, 5)\n",
            "15:\n",
            "(1, 215)\n",
            "16:\n",
            "(1, 215)\n",
            "17:\n",
            "(1, 1)\n"
          ]
        },
        {
          "data": {
            "text/plain": [
              "array([[[ 0.894271  ,  0.0016251 , -0.14094672,  0.8680078 ,\n",
              "          0.00323842],\n",
              "        [ 0.894271  ,  0.0016251 , -0.14094672,  0.8680078 ,\n",
              "          0.00323842],\n",
              "        [ 0.01735163,  0.0016251 , -0.14094672,  0.13747644,\n",
              "          0.00323842],\n",
              "        [-0.11294651,  0.0016251 , -0.14094672, -0.13330507,\n",
              "          0.00323842],\n",
              "        [ 0.23420441,  0.0016251 , -0.14094672,  0.20154774,\n",
              "          0.00323842],\n",
              "        [ 0.36441028,  0.0016251 , -0.14094672,  0.26539457,\n",
              "          0.00323842],\n",
              "        [ 0.15403318,  0.0016251 , -0.14094672,  0.25630045,\n",
              "          0.00323842],\n",
              "        [-0.09018862,  0.0016251 , -0.14094672, -0.13672543,\n",
              "          0.00323842],\n",
              "        [ 0.97859776,  0.0016251 , -0.14094672,  1.3077716 ,\n",
              "          0.00323842],\n",
              "        [ 1.3169185 ,  0.0016251 , -0.14094672,  1.3077716 ,\n",
              "          0.00323842],\n",
              "        [ 0.9443873 ,  0.0016251 , -0.14094672,  0.82119596,\n",
              "          0.00323842],\n",
              "        [-0.04801321,  0.0016251 , -0.14094672, -0.17353511,\n",
              "          0.00323842],\n",
              "        [ 0.949721  ,  0.0016251 , -0.14094672,  0.11862671,\n",
              "          0.00323842],\n",
              "        [ 1.5392102 ,  0.0016251 , -0.14094672,  1.2750379 ,\n",
              "          0.00323842],\n",
              "        [ 1.5392102 ,  0.0016251 , -0.14094672,  0.93722713,\n",
              "          0.00323842],\n",
              "        [ 0.04470527,  0.0016251 , -0.14094672, -0.27238286,\n",
              "          0.00323842],\n",
              "        [ 0.0864166 ,  0.0016251 , -0.14094672, -0.02013862,\n",
              "          0.00323842],\n",
              "        [ 1.1367544 ,  0.0016251 , -0.14094672,  1.0935951 ,\n",
              "          0.00323842],\n",
              "        [ 1.4909824 ,  0.0016251 , -0.14094672,  1.0935951 ,\n",
              "          0.00323842],\n",
              "        [ 0.55228126,  0.0016251 , -0.14094672,  0.8702251 ,\n",
              "          0.00323842],\n",
              "        [ 0.14854145,  0.0016251 , -0.14094672,  0.10943675,\n",
              "          0.00323842],\n",
              "        [ 1.2377802 ,  0.0016251 , -0.14094672,  1.1526104 ,\n",
              "          0.00323842],\n",
              "        [ 1.6181926 ,  0.0016251 , -0.14094672,  1.1526104 ,\n",
              "          0.00323842],\n",
              "        [ 1.6181926 ,  0.0016251 , -0.14094672,  1.0305783 ,\n",
              "          0.00323842],\n",
              "        [ 0.22272766,  0.0016251 , -0.14094672, -0.24272525,\n",
              "          0.00323842],\n",
              "        [ 0.4193548 ,  0.0016251 , -0.14094672,  0.67831075,\n",
              "          0.00323842],\n",
              "        [ 0.6166605 ,  0.0016251 , -0.14094672,  0.67831075,\n",
              "          0.00323842],\n",
              "        [ 0.24946272,  0.0016251 , -0.14094672,  0.34377444,\n",
              "          0.00323842],\n",
              "        [ 0.34500563,  0.0016251 , -0.14094672, -0.09401929,\n",
              "          0.00323842],\n",
              "        [ 0.66354334,  0.0016251 , -0.14094672,  0.455168  ,\n",
              "          0.00323842],\n",
              "        [ 0.7119738 ,  0.0016251 , -0.14094672,  0.48839557,\n",
              "          0.00323842],\n",
              "        [ 0.7119738 ,  0.0016251 , -0.14094672,  0.50348747,\n",
              "          0.00323842],\n",
              "        [-0.04700029,  0.0016251 , -0.14094672,  0.11253893,\n",
              "          0.00323842],\n",
              "        [-0.22384536,  0.0016251 , -0.14094672, -0.23239493,\n",
              "          0.00323842],\n",
              "        [ 0.03398907,  0.0016251 , -0.14094672,  0.00225735,\n",
              "          0.00323842],\n",
              "        [ 0.1812203 ,  0.0016251 , -0.14094672,  0.00225735,\n",
              "          0.00323842],\n",
              "        [ 0.01060057,  0.0016251 , -0.14094672, -0.01495814,\n",
              "          0.00323842],\n",
              "        [-0.03425646,  0.0016251 , -0.14094672, -0.01495814,\n",
              "          0.00323842],\n",
              "        [ 0.6560155 ,  0.0016251 , -0.14094672,  0.82223594,\n",
              "          0.00323842],\n",
              "        [ 0.95700824,  0.0016251 , -0.14094672,  0.82223594,\n",
              "          0.00323842],\n",
              "        [ 0.2998804 ,  0.0016251 , -0.14094672,  0.51768553,\n",
              "          0.00323842],\n",
              "        [-0.30521083,  0.0016251 , -0.14094672, -0.3328395 ,\n",
              "          0.00323842],\n",
              "        [ 0.6549064 ,  0.0016251 , -0.14094672,  0.00920594,\n",
              "          0.00323842]]], dtype=float32)"
            ]
          },
          "execution_count": 85,
          "metadata": {},
          "output_type": "execute_result"
        }
      ],
      "source": [
        "activations = activation_model.predict(test_segment)\n",
        "for i, layer_activation in enumerate(activations):\n",
        "    print(f'{i+1}:\\n{layer_activation.shape}')\n",
        "    if i==13:\n",
        "      flatten = layer_activation\n",
        "flatten"
      ]
    },
    {
      "cell_type": "code",
      "execution_count": null,
      "metadata": {
        "colab": {
          "base_uri": "https://localhost:8080/",
          "height": 448
        },
        "id": "GlerItU1Qlam",
        "outputId": "5382c6a9-aa5d-40b9-acde-de6f5c98f347"
      },
      "outputs": [
        {
          "data": {
            "text/plain": [
              "[<matplotlib.lines.Line2D at 0x7f20a6c22790>]"
            ]
          },
          "execution_count": 86,
          "metadata": {},
          "output_type": "execute_result"
        },
        {
          "data": {
            "image/png": "[encoded data removed]",
            "text/plain": [
              "<Figure size 640x480 with 1 Axes>"
            ]
          },
          "metadata": {},
          "output_type": "display_data"
        }
      ],
      "source": [
        "plt.plot(xTestFinal[1])"
      ]
    },
    {
      "cell_type": "code",
      "execution_count": null,
      "metadata": {
        "colab": {
          "base_uri": "https://localhost:8080/",
          "height": 448
        },
        "id": "NnWpYhyyP365",
        "outputId": "4cb607b1-85b2-4af3-d19e-53cc6862e1b1"
      },
      "outputs": [
        {
          "data": {
            "text/plain": [
              "[<matplotlib.lines.Line2D at 0x7f20a6e69070>]"
            ]
          },
          "execution_count": 87,
          "metadata": {},
          "output_type": "execute_result"
        },
        {
          "data": {
            "image/png": "[encoded data removed]",
            "text/plain": [
              "<Figure size 640x480 with 1 Axes>"
            ]
          },
          "metadata": {},
          "output_type": "display_data"
        }
      ],
      "source": [
        "plt.plot(flatten[0][:,0])"
      ]
    },
    {
      "cell_type": "code",
      "execution_count": null,
      "metadata": {
        "colab": {
          "base_uri": "https://localhost:8080/",
          "height": 448
        },
        "id": "45Z0FTuabX5v",
        "outputId": "e0598dc3-25be-4b23-ebf0-f4d7f3069eb3"
      },
      "outputs": [
        {
          "data": {
            "text/plain": [
              "[<matplotlib.lines.Line2D at 0x7f21568e37c0>]"
            ]
          },
          "execution_count": 88,
          "metadata": {},
          "output_type": "execute_result"
        },
        {
          "data": {
            "image/png": "[encoded data removed]",
            "text/plain": [
              "<Figure size 640x480 with 1 Axes>"
            ]
          },
          "metadata": {},
          "output_type": "display_data"
        }
      ],
      "source": [
        "plt.plot(flatten[0][:,1])"
      ]
    },
    {
      "cell_type": "code",
      "execution_count": null,
      "metadata": {
        "colab": {
          "base_uri": "https://localhost:8080/",
          "height": 448
        },
        "id": "f3zUTYsAbvx9",
        "outputId": "acbcfb89-0127-45bf-8220-1b3ae57140f5"
      },
      "outputs": [
        {
          "data": {
            "text/plain": [
              "[<matplotlib.lines.Line2D at 0x7f21100e0280>]"
            ]
          },
          "execution_count": 89,
          "metadata": {},
          "output_type": "execute_result"
        },
        {
          "data": {
            "image/png": "[encoded data removed]",
            "text/plain": [
              "<Figure size 640x480 with 1 Axes>"
            ]
          },
          "metadata": {},
          "output_type": "display_data"
        }
      ],
      "source": [
        "plt.plot(flatten[0][:,2])"
      ]
    },
    {
      "cell_type": "code",
      "execution_count": null,
      "metadata": {
        "colab": {
          "base_uri": "https://localhost:8080/",
          "height": 448
        },
        "id": "liaasNObcMNE",
        "outputId": "6cb896c8-7c05-4315-ef79-1a67326819eb"
      },
      "outputs": [
        {
          "data": {
            "text/plain": [
              "[<matplotlib.lines.Line2D at 0x7f20a479d8b0>]"
            ]
          },
          "execution_count": 90,
          "metadata": {},
          "output_type": "execute_result"
        },
        {
          "data": {
            "image/png": "[encoded data removed]",
            "text/plain": [
              "<Figure size 640x480 with 1 Axes>"
            ]
          },
          "metadata": {},
          "output_type": "display_data"
        }
      ],
      "source": [
        "plt.plot(flatten[0][:,3])"
      ]
    },
    {
      "cell_type": "code",
      "execution_count": null,
      "metadata": {
        "colab": {
          "base_uri": "https://localhost:8080/",
          "height": 448
        },
        "id": "DqFZcOcpctHz",
        "outputId": "1d46ca1e-3d44-4de7-d234-c66bfcedf800"
      },
      "outputs": [
        {
          "data": {
            "text/plain": [
              "[<matplotlib.lines.Line2D at 0x7f20a7aa1490>]"
            ]
          },
          "execution_count": 91,
          "metadata": {},
          "output_type": "execute_result"
        },
        {
          "data": {
            "image/png": "[encoded data removed]",
            "text/plain": [
              "<Figure size 640x480 with 1 Axes>"
            ]
          },
          "metadata": {},
          "output_type": "display_data"
        }
      ],
      "source": [
        "plt.plot(flatten[0][:,4])"
      ]
    },
    {
      "cell_type": "code",
      "execution_count": null,
      "metadata": {
        "colab": {
          "base_uri": "https://localhost:8080/"
        },
        "id": "Yc2BeU6rRHMG",
        "outputId": "1faa21f6-2712-435c-c189-09b8636aaa05"
      },
      "outputs": [
        {
          "name": "stdout",
          "output_type": "stream",
          "text": [
            "419/419 [==============================] - 1s 3ms/step - loss: 0.2162 - binary_accuracy: 0.9197\n"
          ]
        }
      ],
      "source": [
        "#Evaluate the model on Test Data\n",
        "loss, acc = model.evaluate(xTestFinal,yTestFinal)"
      ]
    },
    {
      "cell_type": "code",
      "execution_count": null,
      "metadata": {
        "colab": {
          "base_uri": "https://localhost:8080/"
        },
        "id": "qVz0MH6WRLkQ",
        "outputId": "29256efb-6a38-42b7-8a2b-2772447c366e"
      },
      "outputs": [
        {
          "name": "stdout",
          "output_type": "stream",
          "text": [
            "419/419 [==============================] - 1s 3ms/step\n",
            "[[6309  422]\n",
            " [ 244 6417]]\n",
            "              precision    recall  f1-score   support\n",
            "\n",
            "           0       0.96      0.94      0.95      6731\n",
            "           1       0.94      0.96      0.95      6661\n",
            "\n",
            "    accuracy                           0.95     13392\n",
            "   macro avg       0.95      0.95      0.95     13392\n",
            "weighted avg       0.95      0.95      0.95     13392\n",
            "\n"
          ]
        }
      ],
      "source": [
        "# Create the perfromance metrics for Test Data\n",
        "yPredict = model.predict(xTestFinal)\n",
        "yPredictTransform = np.argmax(yPredict, axis =1)\n",
        "yTestTransform = np.argmax(yTestFinal, axis =1)\n",
        "resultMatrix = confusion_matrix(yTestTransform, yPredictTransform)\n",
        "resultReport = classification_report(yTestTransform, yPredictTransform)\n",
        "print(resultMatrix)\n",
        "print(resultReport)"
      ]
    },
    {
      "cell_type": "code",
      "execution_count": null,
      "metadata": {
        "colab": {
          "base_uri": "https://localhost:8080/"
        },
        "id": "r0bZT-O7RO__",
        "outputId": "9ec0b70b-3a22-4d0d-f82f-115efdf81941"
      },
      "outputs": [
        {
          "name": "stdout",
          "output_type": "stream",
          "text": [
            "Precision:0.9382950723790028, Recall:0.9633688635340039, Specificity:0.9373050066854851, Accuracy:0.9502688172043011\n"
          ]
        }
      ],
      "source": [
        "# Produce the performance metrics\n",
        "TN = resultMatrix[0][0]\n",
        "FN = resultMatrix[1][0]\n",
        "TP = resultMatrix[1][1]\n",
        "FP = resultMatrix[0][1]\n",
        "precision = TP/(TP+FP)\n",
        "recall = TP/(TP+FN)\n",
        "specificity = TN/(TN+FP)\n",
        "accuracy = (TP+TN)/(TP+TN+FP+FN)\n",
        "print(f'Precision:{precision}, Recall:{recall}, Specificity:{specificity}, Accuracy:{accuracy}')"
      ]
    },
    {
      "cell_type": "code",
      "execution_count": null,
      "metadata": {
        "colab": {
          "base_uri": "https://localhost:8080/"
        },
        "id": "4dImkwk3RTdJ",
        "outputId": "880149be-3155-433f-e505-f6b15160d31a"
      },
      "outputs": [
        {
          "name": "stdout",
          "output_type": "stream",
          "text": [
            "The AUC score of the model is: 0.9890110092315653\n"
          ]
        }
      ],
      "source": [
        "# produce additional metrix, AUC\n",
        "fpr, tpr, thresholds = roc_curve(yTestTransform, yPredict[:,1])\n",
        "Auc=auc(fpr, tpr)\n",
        "print(f'The AUC score of the model is: {Auc}')"
      ]
    },
    {
      "cell_type": "code",
      "execution_count": null,
      "metadata": {
        "colab": {
          "base_uri": "https://localhost:8080/",
          "height": 313
        },
        "id": "NvhZdoYXRWVW",
        "outputId": "1c2aeb6d-74fd-4e8c-ace3-995216851b11"
      },
      "outputs": [
        {
          "data": {
            "text/plain": [
              "Text(0.5, 1.0, 'ROC Curve')"
            ]
          },
          "execution_count": 18,
          "metadata": {},
          "output_type": "execute_result"
        },
        {
          "data": {
            "image/png": "[encoded data removed]",
            "text/plain": [
              "<Figure size 432x288 with 1 Axes>"
            ]
          },
          "metadata": {},
          "output_type": "display_data"
        }
      ],
      "source": [
        "# plot the ROC Curve\n",
        "plt.plot(fpr,tpr)\n",
        "plt.plot([0,1],[0,1])\n",
        "plt.xlabel(\"False Positive Rate\")\n",
        "plt.ylabel(\"True Positive Rate\")\n",
        "plt.title(\"ROC Curve\")"
      ]
    },
    {
      "cell_type": "code",
      "execution_count": null,
      "metadata": {
        "id": "CiArwPbVRYkR"
      },
      "outputs": [],
      "source": [
        "# Record name for ApneaECG dataset\n",
        "path = '/content/drive/My Drive/Apnea Data/apnea-ecg-database-1.0.0/'\n",
        "A1 = [\"a0%d\" %i for i in range(1,10)]\n",
        "A2 = [\"a%d\" %i for i in range(10,21)]\n",
        "B = [\"b0%d\" %i for i in range(1,6)]\n",
        "C = [\"c0%d\" %i for i in range(1,10)]\n",
        "X1 = [\"x0%d\" %i for i in range(1,10)]\n",
        "X2 = [\"x%d\" %i for i in range(10,36)]\n",
        "Record = [A1 + A2 + B + C + [\"c10\"] + X1 + X2][0]"
      ]
    },
    {
      "cell_type": "code",
      "execution_count": null,
      "metadata": {
        "colab": {
          "base_uri": "https://localhost:8080/"
        },
        "id": "dQMpsK7Xp5ll",
        "outputId": "c06f82bd-b287-4efc-914f-292ba760d075"
      },
      "outputs": [
        {
          "name": "stdout",
          "output_type": "stream",
          "text": [
            "Total number of Training Segment: 17035\n",
            "Total number of Testing Segment: 17263\n"
          ]
        }
      ],
      "source": [
        "# segmentation of the signal into segments of 15s\n",
        "storeSegment = []\n",
        "storeAnnotation = []\n",
        "minute = 6000\n",
        "fs = 100\n",
        "segmentLength = int(15.36*fs)\n",
        "for record in Record:\n",
        "  fileIn = path + record\n",
        "  annot_apnea = wfdb.io.rdann(fileIn, 'apn')\n",
        "  annotation = annot_apnea.symbol\n",
        "  signal, info= wfdb.io.rdsamp(fileIn)\n",
        "  for j in range(len(annotation)):\n",
        "    minuteSignal = signal[j*minute:j*minute+minute].ravel()\n",
        "    windowSignal = list(minuteSignal[:segmentLength])\n",
        "    if len(windowSignal)==segmentLength:\n",
        "      storeSegment.append(windowSignal)\n",
        "      storeAnnotation += annotation[j]\n",
        "  if record == 'c10':\n",
        "    trainLen = len(storeSegment)\n",
        "    print(f'Total number of Training Segment: {trainLen}')\n",
        "  if record == 'x35':\n",
        "    print(f'Total number of Testing Segment: {len(storeSegment)-trainLen}')"
      ]
    },
    {
      "cell_type": "code",
      "execution_count": null,
      "metadata": {
        "id": "U-KVfJ1FryNY"
      },
      "outputs": [],
      "source": [
        "# Standardizing the APNEA-ECG data and reshape\n",
        "scale = StandardScaler()\n",
        "xNorm = scale.fit_transform(storeSegment)\n",
        "xApneaECG = np.reshape(xNorm,(xNorm.shape[0],xNorm.shape[1],1))\n",
        "yApneaECG = np.array([[1,0] if i=='N' else [0,1] for i in storeAnnotation])"
      ]
    },
    {
      "cell_type": "code",
      "execution_count": null,
      "metadata": {
        "id": "-fQT3NCP3RZB"
      },
      "outputs": [],
      "source": [
        "# Dividing the set into train and test\n",
        "xApneaECGTrain = xApneaECG[:17035,:,:]\n",
        "yApneaECGTrain = yApneaECG[:17035,:]\n",
        "xApneaECGTest = xApneaECG[17035:,:,:]\n",
        "yApneaECGTest = yApneaECG[17035:,:]"
      ]
    },
    {
      "cell_type": "code",
      "execution_count": null,
      "metadata": {
        "id": "DX4HHTB36I0V"
      },
      "outputs": [],
      "source": [
        "# load the model\n",
        "modelLoaded =load_model('/content/drive/My Drive/Apnea Data/St. Vincent Hospital/Saved Models/finalModel12Sec_10Thresh_SMOTE.hdf5')"
      ]
    },
    {
      "cell_type": "code",
      "execution_count": null,
      "metadata": {
        "colab": {
          "base_uri": "https://localhost:8080/"
        },
        "id": "XKIlh-wB9zRx",
        "outputId": "3e66a7d1-3fdd-435c-a59a-99eb26fa436d"
      },
      "outputs": [
        {
          "name": "stdout",
          "output_type": "stream",
          "text": [
            "286/286 [==============================] - 2s 5ms/step - loss: 0.4730 - binary_accuracy: 0.9688\n"
          ]
        }
      ],
      "source": [
        "loss, acc = modelLoaded.evaluate(xTestFinal,yTestFinal)"
      ]
    },
    {
      "cell_type": "code",
      "execution_count": null,
      "metadata": {
        "colab": {
          "base_uri": "https://localhost:8080/"
        },
        "id": "aLqZSo0yvBmJ",
        "outputId": "a7f73341-fdbd-4e07-819b-6e6f21e6c5ee"
      },
      "outputs": [
        {
          "name": "stdout",
          "output_type": "stream",
          "text": [
            "Epoch 1/200\n",
            "14/14 [==============================] - 4s 171ms/step - loss: 0.5008 - binary_accuracy: 0.9516 - val_loss: 0.5336 - val_binary_accuracy: 0.9962\n",
            "Epoch 2/200\n",
            "14/14 [==============================] - 2s 148ms/step - loss: 0.4779 - binary_accuracy: 0.9786 - val_loss: 0.5269 - val_binary_accuracy: 0.9436\n",
            "Epoch 3/200\n",
            "14/14 [==============================] - 2s 148ms/step - loss: 0.4683 - binary_accuracy: 0.9858 - val_loss: 0.6535 - val_binary_accuracy: 0.7109\n",
            "Epoch 4/200\n",
            "14/14 [==============================] - 2s 149ms/step - loss: 0.4692 - binary_accuracy: 0.9838 - val_loss: 0.6277 - val_binary_accuracy: 0.7502\n",
            "Epoch 5/200\n",
            "14/14 [==============================] - 2s 150ms/step - loss: 0.4627 - binary_accuracy: 0.9907 - val_loss: 0.6444 - val_binary_accuracy: 0.7364\n",
            "Epoch 6/200\n",
            "14/14 [==============================] - 2s 150ms/step - loss: 0.4632 - binary_accuracy: 0.9888 - val_loss: 0.7504 - val_binary_accuracy: 0.6026\n",
            "Epoch 7/200\n",
            "14/14 [==============================] - 2s 150ms/step - loss: 0.4652 - binary_accuracy: 0.9894 - val_loss: 0.6250 - val_binary_accuracy: 0.7661\n",
            "Epoch 8/200\n",
            "14/14 [==============================] - 2s 150ms/step - loss: 0.4665 - binary_accuracy: 0.9886 - val_loss: 0.6176 - val_binary_accuracy: 0.7760\n",
            "Epoch 9/200\n",
            "14/14 [==============================] - 2s 151ms/step - loss: 0.4648 - binary_accuracy: 0.9883 - val_loss: 0.6403 - val_binary_accuracy: 0.7452\n",
            "Epoch 10/200\n",
            "14/14 [==============================] - 2s 151ms/step - loss: 0.4642 - binary_accuracy: 0.9895 - val_loss: 0.6321 - val_binary_accuracy: 0.7587\n",
            "Epoch 11/200\n",
            "14/14 [==============================] - 2s 151ms/step - loss: 0.4664 - binary_accuracy: 0.9866 - val_loss: 0.6432 - val_binary_accuracy: 0.7391\n",
            "Epoch 12/200\n",
            "14/14 [==============================] - 2s 152ms/step - loss: 0.4689 - binary_accuracy: 0.9844 - val_loss: 0.6471 - val_binary_accuracy: 0.7347\n",
            "Epoch 13/200\n",
            "14/14 [==============================] - 2s 153ms/step - loss: 0.4661 - binary_accuracy: 0.9883 - val_loss: 0.6131 - val_binary_accuracy: 0.7875\n",
            "Epoch 14/200\n",
            "14/14 [==============================] - 2s 153ms/step - loss: 0.4640 - binary_accuracy: 0.9889 - val_loss: 0.6458 - val_binary_accuracy: 0.7347\n",
            "Epoch 15/200\n",
            "14/14 [==============================] - 2s 153ms/step - loss: 0.4666 - binary_accuracy: 0.9866 - val_loss: 0.6271 - val_binary_accuracy: 0.7587\n",
            "Epoch 16/200\n",
            "14/14 [==============================] - 2s 154ms/step - loss: 0.4663 - binary_accuracy: 0.9871 - val_loss: 0.7227 - val_binary_accuracy: 0.6237\n",
            "Epoch 17/200\n",
            "14/14 [==============================] - 2s 153ms/step - loss: 0.4657 - binary_accuracy: 0.9872 - val_loss: 0.5416 - val_binary_accuracy: 0.9275\n",
            "Epoch 18/200\n",
            "14/14 [==============================] - 2s 153ms/step - loss: 0.4697 - binary_accuracy: 0.9839 - val_loss: 0.5909 - val_binary_accuracy: 0.8262\n",
            "Epoch 19/200\n",
            "14/14 [==============================] - 2s 162ms/step - loss: 0.4661 - binary_accuracy: 0.9891 - val_loss: 0.5894 - val_binary_accuracy: 0.8242\n",
            "Epoch 20/200\n",
            "14/14 [==============================] - 2s 152ms/step - loss: 0.4665 - binary_accuracy: 0.9870 - val_loss: 0.6285 - val_binary_accuracy: 0.7611\n",
            "Epoch 21/200\n",
            "14/14 [==============================] - 2s 152ms/step - loss: 0.4683 - binary_accuracy: 0.9850 - val_loss: 0.5978 - val_binary_accuracy: 0.8166\n",
            "Epoch 22/200\n",
            "14/14 [==============================] - 2s 152ms/step - loss: 0.4737 - binary_accuracy: 0.9806 - val_loss: 0.5831 - val_binary_accuracy: 0.8453\n",
            "Epoch 23/200\n",
            "14/14 [==============================] - 2s 151ms/step - loss: 0.4685 - binary_accuracy: 0.9863 - val_loss: 0.6004 - val_binary_accuracy: 0.8033\n",
            "Epoch 24/200\n",
            "14/14 [==============================] - 2s 151ms/step - loss: 0.4697 - binary_accuracy: 0.9839 - val_loss: 0.5793 - val_binary_accuracy: 0.8447\n",
            "Epoch 25/200\n",
            "14/14 [==============================] - 2s 151ms/step - loss: 0.4642 - binary_accuracy: 0.9882 - val_loss: 0.8050 - val_binary_accuracy: 0.5515\n",
            "Epoch 26/200\n",
            "14/14 [==============================] - 2s 151ms/step - loss: 0.4645 - binary_accuracy: 0.9890 - val_loss: 0.6068 - val_binary_accuracy: 0.7910\n",
            "Epoch 27/200\n",
            "14/14 [==============================] - 2s 150ms/step - loss: 0.4625 - binary_accuracy: 0.9906 - val_loss: 0.5754 - val_binary_accuracy: 0.8623\n",
            "Epoch 28/200\n",
            "14/14 [==============================] - 2s 151ms/step - loss: 0.4653 - binary_accuracy: 0.9880 - val_loss: 0.6948 - val_binary_accuracy: 0.6686\n",
            "Epoch 29/200\n",
            "14/14 [==============================] - 2s 150ms/step - loss: 0.4646 - binary_accuracy: 0.9889 - val_loss: 0.7237 - val_binary_accuracy: 0.6319\n",
            "Epoch 30/200\n",
            "14/14 [==============================] - 2s 150ms/step - loss: 0.4660 - binary_accuracy: 0.9886 - val_loss: 0.7772 - val_binary_accuracy: 0.5685\n",
            "Epoch 31/200\n",
            "14/14 [==============================] - 2s 150ms/step - loss: 0.4656 - binary_accuracy: 0.9869 - val_loss: 0.5958 - val_binary_accuracy: 0.8083\n",
            "Epoch 32/200\n",
            "14/14 [==============================] - 2s 150ms/step - loss: 0.4669 - binary_accuracy: 0.9880 - val_loss: 0.6073 - val_binary_accuracy: 0.7928\n",
            "Epoch 33/200\n",
            "14/14 [==============================] - 2s 151ms/step - loss: 0.4654 - binary_accuracy: 0.9891 - val_loss: 0.5762 - val_binary_accuracy: 0.8532\n",
            "Epoch 34/200\n",
            "14/14 [==============================] - 2s 150ms/step - loss: 0.4669 - binary_accuracy: 0.9868 - val_loss: 0.6560 - val_binary_accuracy: 0.7106\n",
            "Epoch 35/200\n",
            "14/14 [==============================] - 2s 149ms/step - loss: 0.4676 - binary_accuracy: 0.9850 - val_loss: 0.5292 - val_binary_accuracy: 0.9404\n",
            "Epoch 36/200\n",
            "14/14 [==============================] - 2s 150ms/step - loss: 0.4665 - binary_accuracy: 0.9866 - val_loss: 0.5336 - val_binary_accuracy: 0.9322\n",
            "Epoch 37/200\n",
            "14/14 [==============================] - 2s 150ms/step - loss: 0.4678 - binary_accuracy: 0.9849 - val_loss: 0.6394 - val_binary_accuracy: 0.7361\n",
            "Epoch 38/200\n",
            "14/14 [==============================] - 2s 159ms/step - loss: 0.4705 - binary_accuracy: 0.9820 - val_loss: 0.6424 - val_binary_accuracy: 0.7314\n",
            "Epoch 39/200\n",
            "14/14 [==============================] - 2s 150ms/step - loss: 0.4648 - binary_accuracy: 0.9879 - val_loss: 0.6636 - val_binary_accuracy: 0.7018\n",
            "Epoch 40/200\n",
            "14/14 [==============================] - 2s 150ms/step - loss: 0.4660 - binary_accuracy: 0.9867 - val_loss: 0.5151 - val_binary_accuracy: 0.9642\n",
            "Epoch 41/200\n",
            "14/14 [==============================] - 2s 150ms/step - loss: 0.4663 - binary_accuracy: 0.9877 - val_loss: 0.5947 - val_binary_accuracy: 0.8168\n",
            "Epoch 42/200\n",
            "14/14 [==============================] - 2s 150ms/step - loss: 0.4658 - binary_accuracy: 0.9875 - val_loss: 0.5861 - val_binary_accuracy: 0.8333\n",
            "Epoch 43/200\n",
            "14/14 [==============================] - 2s 150ms/step - loss: 0.4646 - binary_accuracy: 0.9875 - val_loss: 0.5920 - val_binary_accuracy: 0.8110\n",
            "Epoch 44/200\n",
            "14/14 [==============================] - 2s 150ms/step - loss: 0.4706 - binary_accuracy: 0.9836 - val_loss: 0.5951 - val_binary_accuracy: 0.8239\n",
            "Epoch 45/200\n",
            "14/14 [==============================] - 2s 151ms/step - loss: 0.4692 - binary_accuracy: 0.9853 - val_loss: 0.5629 - val_binary_accuracy: 0.8779\n",
            "Epoch 46/200\n",
            "14/14 [==============================] - 2s 150ms/step - loss: 0.4661 - binary_accuracy: 0.9883 - val_loss: 0.6324 - val_binary_accuracy: 0.7446\n",
            "Epoch 47/200\n",
            "14/14 [==============================] - 2s 150ms/step - loss: 0.4640 - binary_accuracy: 0.9891 - val_loss: 0.6504 - val_binary_accuracy: 0.7303\n",
            "Epoch 48/200\n",
            "14/14 [==============================] - 2s 149ms/step - loss: 0.4652 - binary_accuracy: 0.9888 - val_loss: 0.6088 - val_binary_accuracy: 0.7922\n",
            "Epoch 49/200\n",
            "14/14 [==============================] - 2s 160ms/step - loss: 0.4646 - binary_accuracy: 0.9877 - val_loss: 0.5565 - val_binary_accuracy: 0.8923\n",
            "Epoch 50/200\n",
            "14/14 [==============================] - 2s 151ms/step - loss: 0.4652 - binary_accuracy: 0.9892 - val_loss: 0.6506 - val_binary_accuracy: 0.7300\n",
            "Epoch 51/200\n",
            "14/14 [==============================] - 2s 150ms/step - loss: 0.4657 - binary_accuracy: 0.9870 - val_loss: 0.6382 - val_binary_accuracy: 0.7499\n",
            "Epoch 52/200\n",
            "14/14 [==============================] - 2s 150ms/step - loss: 0.4643 - binary_accuracy: 0.9887 - val_loss: 0.7637 - val_binary_accuracy: 0.5994\n",
            "Epoch 53/200\n",
            "14/14 [==============================] - 2s 151ms/step - loss: 0.4636 - binary_accuracy: 0.9887 - val_loss: 0.6059 - val_binary_accuracy: 0.7928\n",
            "Epoch 54/200\n",
            "14/14 [==============================] - 2s 151ms/step - loss: 0.4648 - binary_accuracy: 0.9894 - val_loss: 0.5481 - val_binary_accuracy: 0.9064\n",
            "Epoch 55/200\n",
            "14/14 [==============================] - 2s 153ms/step - loss: 0.4645 - binary_accuracy: 0.9879 - val_loss: 0.6619 - val_binary_accuracy: 0.7082\n",
            "Epoch 56/200\n",
            "14/14 [==============================] - 2s 154ms/step - loss: 0.4623 - binary_accuracy: 0.9908 - val_loss: 0.6056 - val_binary_accuracy: 0.8028\n",
            "Epoch 57/200\n",
            "14/14 [==============================] - 2s 161ms/step - loss: 0.4627 - binary_accuracy: 0.9911 - val_loss: 0.5722 - val_binary_accuracy: 0.8582\n",
            "Epoch 58/200\n",
            "14/14 [==============================] - 2s 152ms/step - loss: 0.4639 - binary_accuracy: 0.9904 - val_loss: 0.5624 - val_binary_accuracy: 0.8820\n",
            "Epoch 59/200\n",
            "14/14 [==============================] - 2s 151ms/step - loss: 0.4655 - binary_accuracy: 0.9872 - val_loss: 0.5435 - val_binary_accuracy: 0.9049\n",
            "Epoch 60/200\n",
            "14/14 [==============================] - 2s 151ms/step - loss: 0.4628 - binary_accuracy: 0.9899 - val_loss: 0.5346 - val_binary_accuracy: 0.9310\n",
            "Epoch 61/200\n",
            "14/14 [==============================] - 2s 151ms/step - loss: 0.4631 - binary_accuracy: 0.9899 - val_loss: 0.6951 - val_binary_accuracy: 0.6804\n",
            "Epoch 62/200\n",
            "14/14 [==============================] - 2s 161ms/step - loss: 0.4625 - binary_accuracy: 0.9896 - val_loss: 0.6591 - val_binary_accuracy: 0.7347\n",
            "Epoch 63/200\n",
            "14/14 [==============================] - 2s 151ms/step - loss: 0.4649 - binary_accuracy: 0.9867 - val_loss: 0.6535 - val_binary_accuracy: 0.7182\n",
            "Epoch 64/200\n",
            "14/14 [==============================] - 2s 150ms/step - loss: 0.4654 - binary_accuracy: 0.9876 - val_loss: 0.5956 - val_binary_accuracy: 0.8224\n",
            "Epoch 65/200\n",
            "14/14 [==============================] - 2s 151ms/step - loss: 0.4690 - binary_accuracy: 0.9839 - val_loss: 0.6262 - val_binary_accuracy: 0.7590\n",
            "Epoch 66/200\n",
            "14/14 [==============================] - 2s 151ms/step - loss: 0.4679 - binary_accuracy: 0.9863 - val_loss: 0.5262 - val_binary_accuracy: 0.9551\n",
            "Epoch 67/200\n",
            "14/14 [==============================] - 2s 151ms/step - loss: 0.4660 - binary_accuracy: 0.9869 - val_loss: 0.6747 - val_binary_accuracy: 0.7033\n",
            "Epoch 68/200\n",
            "14/14 [==============================] - 2s 151ms/step - loss: 0.4621 - binary_accuracy: 0.9891 - val_loss: 0.6129 - val_binary_accuracy: 0.7863\n",
            "Epoch 69/200\n",
            "14/14 [==============================] - 2s 150ms/step - loss: 0.4620 - binary_accuracy: 0.9913 - val_loss: 0.6127 - val_binary_accuracy: 0.7766\n",
            "Epoch 70/200\n",
            "14/14 [==============================] - 2s 160ms/step - loss: 0.4656 - binary_accuracy: 0.9876 - val_loss: 0.6294 - val_binary_accuracy: 0.7664\n",
            "Epoch 71/200\n",
            "14/14 [==============================] - 2s 150ms/step - loss: 0.4637 - binary_accuracy: 0.9891 - val_loss: 0.6346 - val_binary_accuracy: 0.7452\n",
            "Epoch 72/200\n",
            "14/14 [==============================] - 2s 151ms/step - loss: 0.4651 - binary_accuracy: 0.9886 - val_loss: 0.5876 - val_binary_accuracy: 0.8239\n",
            "Epoch 73/200\n",
            "14/14 [==============================] - 2s 150ms/step - loss: 0.4652 - binary_accuracy: 0.9877 - val_loss: 0.6077 - val_binary_accuracy: 0.7969\n",
            "Epoch 74/200\n",
            "14/14 [==============================] - 2s 161ms/step - loss: 0.4639 - binary_accuracy: 0.9894 - val_loss: 0.6089 - val_binary_accuracy: 0.7934\n",
            "Epoch 75/200\n",
            "14/14 [==============================] - 2s 151ms/step - loss: 0.4665 - binary_accuracy: 0.9865 - val_loss: 0.7091 - val_binary_accuracy: 0.6531\n",
            "Epoch 76/200\n",
            "14/14 [==============================] - 2s 151ms/step - loss: 0.4658 - binary_accuracy: 0.9889 - val_loss: 0.6310 - val_binary_accuracy: 0.7728\n",
            "Epoch 77/200\n",
            "14/14 [==============================] - 2s 161ms/step - loss: 0.4641 - binary_accuracy: 0.9884 - val_loss: 0.5527 - val_binary_accuracy: 0.8993\n",
            "Epoch 78/200\n",
            "14/14 [==============================] - 2s 150ms/step - loss: 0.4642 - binary_accuracy: 0.9886 - val_loss: 0.6529 - val_binary_accuracy: 0.7297\n",
            "Epoch 79/200\n",
            "14/14 [==============================] - 2s 152ms/step - loss: 0.4669 - binary_accuracy: 0.9869 - val_loss: 0.6471 - val_binary_accuracy: 0.7537\n",
            "Epoch 80/200\n",
            "14/14 [==============================] - 2s 149ms/step - loss: 0.4632 - binary_accuracy: 0.9902 - val_loss: 0.6239 - val_binary_accuracy: 0.7746\n",
            "Epoch 81/200\n",
            "14/14 [==============================] - 2s 160ms/step - loss: 0.4613 - binary_accuracy: 0.9911 - val_loss: 0.6029 - val_binary_accuracy: 0.8098\n",
            "Epoch 82/200\n",
            "14/14 [==============================] - 2s 151ms/step - loss: 0.4706 - binary_accuracy: 0.9817 - val_loss: 0.5688 - val_binary_accuracy: 0.8623\n",
            "Epoch 83/200\n",
            "14/14 [==============================] - 2s 161ms/step - loss: 0.4755 - binary_accuracy: 0.9780 - val_loss: 0.5497 - val_binary_accuracy: 0.9078\n",
            "Epoch 84/200\n",
            "14/14 [==============================] - 2s 150ms/step - loss: 0.4715 - binary_accuracy: 0.9835 - val_loss: 0.6478 - val_binary_accuracy: 0.7405\n",
            "Epoch 85/200\n",
            "14/14 [==============================] - 2s 150ms/step - loss: 0.4684 - binary_accuracy: 0.9858 - val_loss: 0.5569 - val_binary_accuracy: 0.8794\n",
            "Epoch 86/200\n",
            "14/14 [==============================] - 2s 151ms/step - loss: 0.4637 - binary_accuracy: 0.9889 - val_loss: 0.6621 - val_binary_accuracy: 0.7080\n",
            "Epoch 87/200\n",
            "14/14 [==============================] - 2s 151ms/step - loss: 0.4641 - binary_accuracy: 0.9906 - val_loss: 0.5872 - val_binary_accuracy: 0.8268\n",
            "Epoch 88/200\n",
            "14/14 [==============================] - 2s 151ms/step - loss: 0.4664 - binary_accuracy: 0.9854 - val_loss: 0.6100 - val_binary_accuracy: 0.7940\n",
            "Epoch 89/200\n",
            "14/14 [==============================] - 2s 160ms/step - loss: 0.4648 - binary_accuracy: 0.9870 - val_loss: 0.5697 - val_binary_accuracy: 0.8629\n",
            "Epoch 90/200\n",
            "14/14 [==============================] - 2s 151ms/step - loss: 0.4635 - binary_accuracy: 0.9892 - val_loss: 0.6698 - val_binary_accuracy: 0.6927\n",
            "Epoch 91/200\n",
            "14/14 [==============================] - 2s 151ms/step - loss: 0.4650 - binary_accuracy: 0.9891 - val_loss: 0.5923 - val_binary_accuracy: 0.8177\n",
            "Epoch 92/200\n",
            "14/14 [==============================] - 2s 151ms/step - loss: 0.4641 - binary_accuracy: 0.9892 - val_loss: 0.6337 - val_binary_accuracy: 0.7482\n",
            "Epoch 93/200\n",
            "14/14 [==============================] - 2s 151ms/step - loss: 0.4657 - binary_accuracy: 0.9877 - val_loss: 0.7069 - val_binary_accuracy: 0.6422\n",
            "Epoch 94/200\n",
            "14/14 [==============================] - 2s 161ms/step - loss: 0.4642 - binary_accuracy: 0.9890 - val_loss: 0.6117 - val_binary_accuracy: 0.7890\n",
            "Epoch 95/200\n",
            "14/14 [==============================] - 2s 151ms/step - loss: 0.4633 - binary_accuracy: 0.9896 - val_loss: 0.5785 - val_binary_accuracy: 0.8512\n",
            "Epoch 96/200\n",
            "14/14 [==============================] - 2s 151ms/step - loss: 0.4606 - binary_accuracy: 0.9918 - val_loss: 0.5869 - val_binary_accuracy: 0.8350\n",
            "Epoch 97/200\n",
            "14/14 [==============================] - 2s 149ms/step - loss: 0.4622 - binary_accuracy: 0.9886 - val_loss: 0.6341 - val_binary_accuracy: 0.7567\n",
            "Epoch 98/200\n",
            "14/14 [==============================] - 2s 161ms/step - loss: 0.4617 - binary_accuracy: 0.9909 - val_loss: 0.5680 - val_binary_accuracy: 0.8791\n",
            "Epoch 99/200\n",
            "14/14 [==============================] - 2s 151ms/step - loss: 0.4637 - binary_accuracy: 0.9880 - val_loss: 0.6893 - val_binary_accuracy: 0.6739\n",
            "Epoch 100/200\n",
            "14/14 [==============================] - 2s 150ms/step - loss: 0.4637 - binary_accuracy: 0.9886 - val_loss: 0.5776 - val_binary_accuracy: 0.8456\n",
            "Epoch 101/200\n",
            "14/14 [==============================] - 2s 151ms/step - loss: 0.4693 - binary_accuracy: 0.9839 - val_loss: 0.5687 - val_binary_accuracy: 0.8644\n",
            "Epoch 102/200\n",
            "14/14 [==============================] - 2s 150ms/step - loss: 0.4656 - binary_accuracy: 0.9875 - val_loss: 0.6008 - val_binary_accuracy: 0.8280\n",
            "Epoch 103/200\n",
            "14/14 [==============================] - 2s 151ms/step - loss: 0.4676 - binary_accuracy: 0.9861 - val_loss: 0.7319 - val_binary_accuracy: 0.6240\n",
            "Epoch 104/200\n",
            "14/14 [==============================] - 2s 151ms/step - loss: 0.4665 - binary_accuracy: 0.9869 - val_loss: 0.5709 - val_binary_accuracy: 0.8676\n",
            "Epoch 105/200\n",
            "14/14 [==============================] - 2s 152ms/step - loss: 0.4629 - binary_accuracy: 0.9898 - val_loss: 0.7199 - val_binary_accuracy: 0.6269\n",
            "Epoch 106/200\n",
            "14/14 [==============================] - 2s 151ms/step - loss: 0.4626 - binary_accuracy: 0.9899 - val_loss: 0.6206 - val_binary_accuracy: 0.7731\n",
            "Epoch 107/200\n",
            "14/14 [==============================] - 2s 151ms/step - loss: 0.4623 - binary_accuracy: 0.9906 - val_loss: 0.6208 - val_binary_accuracy: 0.7722\n",
            "Epoch 108/200\n",
            "14/14 [==============================] - 2s 152ms/step - loss: 0.4603 - binary_accuracy: 0.9918 - val_loss: 0.5651 - val_binary_accuracy: 0.8729\n",
            "Epoch 109/200\n",
            "14/14 [==============================] - 2s 151ms/step - loss: 0.4637 - binary_accuracy: 0.9890 - val_loss: 0.6603 - val_binary_accuracy: 0.7156\n",
            "Epoch 110/200\n",
            "14/14 [==============================] - 2s 151ms/step - loss: 0.4632 - binary_accuracy: 0.9899 - val_loss: 0.7418 - val_binary_accuracy: 0.6384\n",
            "Epoch 111/200\n",
            "14/14 [==============================] - 2s 151ms/step - loss: 0.4624 - binary_accuracy: 0.9892 - val_loss: 0.5818 - val_binary_accuracy: 0.8277\n",
            "Epoch 112/200\n",
            "14/14 [==============================] - 2s 162ms/step - loss: 0.4616 - binary_accuracy: 0.9902 - val_loss: 0.5684 - val_binary_accuracy: 0.8653\n",
            "Epoch 113/200\n",
            "14/14 [==============================] - 2s 150ms/step - loss: 0.4617 - binary_accuracy: 0.9902 - val_loss: 0.6216 - val_binary_accuracy: 0.7649\n",
            "Epoch 114/200\n",
            "14/14 [==============================] - 2s 150ms/step - loss: 0.4596 - binary_accuracy: 0.9934 - val_loss: 0.6583 - val_binary_accuracy: 0.7138\n",
            "Epoch 115/200\n",
            "14/14 [==============================] - 2s 150ms/step - loss: 0.4601 - binary_accuracy: 0.9920 - val_loss: 0.5300 - val_binary_accuracy: 0.9337\n",
            "Epoch 116/200\n",
            "14/14 [==============================] - 2s 161ms/step - loss: 0.4608 - binary_accuracy: 0.9918 - val_loss: 0.6333 - val_binary_accuracy: 0.7561\n",
            "Epoch 117/200\n",
            "14/14 [==============================] - 2s 151ms/step - loss: 0.4601 - binary_accuracy: 0.9914 - val_loss: 0.6103 - val_binary_accuracy: 0.7972\n",
            "Epoch 118/200\n",
            "14/14 [==============================] - 2s 151ms/step - loss: 0.4615 - binary_accuracy: 0.9905 - val_loss: 0.6530 - val_binary_accuracy: 0.7282\n",
            "Epoch 119/200\n",
            "14/14 [==============================] - 2s 152ms/step - loss: 0.4640 - binary_accuracy: 0.9869 - val_loss: 0.5680 - val_binary_accuracy: 0.8679\n",
            "Epoch 120/200\n",
            "14/14 [==============================] - 2s 151ms/step - loss: 0.4628 - binary_accuracy: 0.9901 - val_loss: 0.5527 - val_binary_accuracy: 0.8984\n",
            "Epoch 121/200\n",
            "14/14 [==============================] - 2s 151ms/step - loss: 0.4615 - binary_accuracy: 0.9915 - val_loss: 0.6945 - val_binary_accuracy: 0.6525\n",
            "Epoch 122/200\n",
            "14/14 [==============================] - 2s 150ms/step - loss: 0.4634 - binary_accuracy: 0.9891 - val_loss: 0.7817 - val_binary_accuracy: 0.5844\n",
            "Epoch 123/200\n",
            "14/14 [==============================] - 2s 150ms/step - loss: 0.4633 - binary_accuracy: 0.9902 - val_loss: 0.5940 - val_binary_accuracy: 0.8122\n",
            "Epoch 124/200\n",
            "14/14 [==============================] - 2s 151ms/step - loss: 0.4614 - binary_accuracy: 0.9909 - val_loss: 0.6070 - val_binary_accuracy: 0.7878\n",
            "Epoch 125/200\n",
            "14/14 [==============================] - 2s 152ms/step - loss: 0.4589 - binary_accuracy: 0.9911 - val_loss: 0.6108 - val_binary_accuracy: 0.7937\n",
            "Epoch 126/200\n",
            "14/14 [==============================] - 2s 152ms/step - loss: 0.4619 - binary_accuracy: 0.9894 - val_loss: 0.6453 - val_binary_accuracy: 0.7467\n",
            "Epoch 127/200\n",
            "14/14 [==============================] - 2s 155ms/step - loss: 0.4641 - binary_accuracy: 0.9888 - val_loss: 0.5602 - val_binary_accuracy: 0.8841\n",
            "Epoch 128/200\n",
            "14/14 [==============================] - 2s 151ms/step - loss: 0.4623 - binary_accuracy: 0.9888 - val_loss: 0.5600 - val_binary_accuracy: 0.8858\n",
            "Epoch 129/200\n",
            "14/14 [==============================] - 2s 160ms/step - loss: 0.4645 - binary_accuracy: 0.9880 - val_loss: 0.6250 - val_binary_accuracy: 0.7672\n",
            "Epoch 130/200\n",
            "14/14 [==============================] - 2s 150ms/step - loss: 0.4624 - binary_accuracy: 0.9895 - val_loss: 0.6185 - val_binary_accuracy: 0.7758\n",
            "Epoch 131/200\n",
            "14/14 [==============================] - 2s 151ms/step - loss: 0.4598 - binary_accuracy: 0.9917 - val_loss: 0.6314 - val_binary_accuracy: 0.7652\n",
            "Epoch 132/200\n",
            "14/14 [==============================] - 2s 151ms/step - loss: 0.4616 - binary_accuracy: 0.9908 - val_loss: 0.5871 - val_binary_accuracy: 0.8271\n",
            "Epoch 133/200\n",
            "14/14 [==============================] - 2s 160ms/step - loss: 0.4599 - binary_accuracy: 0.9920 - val_loss: 0.6306 - val_binary_accuracy: 0.7658\n",
            "Epoch 134/200\n",
            "14/14 [==============================] - 2s 151ms/step - loss: 0.4619 - binary_accuracy: 0.9905 - val_loss: 0.5993 - val_binary_accuracy: 0.8142\n",
            "Epoch 135/200\n",
            "14/14 [==============================] - 2s 151ms/step - loss: 0.4681 - binary_accuracy: 0.9839 - val_loss: 0.5413 - val_binary_accuracy: 0.9240\n",
            "Epoch 136/200\n",
            "14/14 [==============================] - 2s 151ms/step - loss: 0.4631 - binary_accuracy: 0.9906 - val_loss: 0.6500 - val_binary_accuracy: 0.7229\n",
            "Epoch 137/200\n",
            "14/14 [==============================] - 2s 151ms/step - loss: 0.4599 - binary_accuracy: 0.9914 - val_loss: 0.6075 - val_binary_accuracy: 0.7940\n",
            "Epoch 138/200\n",
            "14/14 [==============================] - 2s 161ms/step - loss: 0.4589 - binary_accuracy: 0.9916 - val_loss: 0.7261 - val_binary_accuracy: 0.6246\n",
            "Epoch 139/200\n",
            "14/14 [==============================] - 2s 151ms/step - loss: 0.4572 - binary_accuracy: 0.9924 - val_loss: 0.6090 - val_binary_accuracy: 0.7860\n",
            "Epoch 140/200\n",
            "14/14 [==============================] - 2s 151ms/step - loss: 0.4578 - binary_accuracy: 0.9936 - val_loss: 0.5874 - val_binary_accuracy: 0.8371\n",
            "Epoch 141/200\n",
            "14/14 [==============================] - 2s 152ms/step - loss: 0.4570 - binary_accuracy: 0.9934 - val_loss: 0.6444 - val_binary_accuracy: 0.7361\n",
            "Epoch 142/200\n",
            "14/14 [==============================] - 2s 151ms/step - loss: 0.4597 - binary_accuracy: 0.9921 - val_loss: 0.5927 - val_binary_accuracy: 0.8274\n",
            "Epoch 143/200\n",
            "14/14 [==============================] - 2s 161ms/step - loss: 0.4598 - binary_accuracy: 0.9913 - val_loss: 0.6753 - val_binary_accuracy: 0.6939\n",
            "Epoch 144/200\n",
            "14/14 [==============================] - 2s 161ms/step - loss: 0.4600 - binary_accuracy: 0.9921 - val_loss: 0.7589 - val_binary_accuracy: 0.5917\n",
            "Epoch 145/200\n",
            "14/14 [==============================] - 2s 161ms/step - loss: 0.4590 - binary_accuracy: 0.9925 - val_loss: 0.5919 - val_binary_accuracy: 0.8210\n",
            "Epoch 146/200\n",
            "14/14 [==============================] - 2s 151ms/step - loss: 0.4595 - binary_accuracy: 0.9918 - val_loss: 0.6680 - val_binary_accuracy: 0.6871\n",
            "Epoch 147/200\n",
            "14/14 [==============================] - 2s 149ms/step - loss: 0.4607 - binary_accuracy: 0.9890 - val_loss: 0.6558 - val_binary_accuracy: 0.7226\n",
            "Epoch 148/200\n",
            "14/14 [==============================] - 2s 160ms/step - loss: 0.4637 - binary_accuracy: 0.9890 - val_loss: 0.5844 - val_binary_accuracy: 0.8312\n",
            "Epoch 149/200\n",
            "14/14 [==============================] - 2s 161ms/step - loss: 0.4648 - binary_accuracy: 0.9876 - val_loss: 0.5687 - val_binary_accuracy: 0.8688\n",
            "Epoch 150/200\n",
            "14/14 [==============================] - 2s 151ms/step - loss: 0.4608 - binary_accuracy: 0.9901 - val_loss: 0.5757 - val_binary_accuracy: 0.8618\n",
            "Epoch 151/200\n",
            "14/14 [==============================] - 2s 151ms/step - loss: 0.4596 - binary_accuracy: 0.9924 - val_loss: 0.6707 - val_binary_accuracy: 0.6945\n",
            "Epoch 152/200\n",
            "14/14 [==============================] - 2s 151ms/step - loss: 0.4622 - binary_accuracy: 0.9884 - val_loss: 0.6665 - val_binary_accuracy: 0.6939\n",
            "Epoch 153/200\n",
            "14/14 [==============================] - 2s 160ms/step - loss: 0.4602 - binary_accuracy: 0.9917 - val_loss: 0.6261 - val_binary_accuracy: 0.7690\n",
            "Epoch 154/200\n",
            "14/14 [==============================] - 2s 160ms/step - loss: 0.4646 - binary_accuracy: 0.9865 - val_loss: 0.6657 - val_binary_accuracy: 0.7000\n",
            "Epoch 155/200\n",
            "14/14 [==============================] - 2s 151ms/step - loss: 0.4613 - binary_accuracy: 0.9915 - val_loss: 0.6466 - val_binary_accuracy: 0.7405\n",
            "Epoch 156/200\n",
            "14/14 [==============================] - 2s 151ms/step - loss: 0.4606 - binary_accuracy: 0.9918 - val_loss: 0.6351 - val_binary_accuracy: 0.7473\n",
            "Epoch 157/200\n",
            "14/14 [==============================] - 2s 152ms/step - loss: 0.4571 - binary_accuracy: 0.9938 - val_loss: 0.6657 - val_binary_accuracy: 0.7009\n",
            "Epoch 158/200\n",
            "14/14 [==============================] - 2s 152ms/step - loss: 0.4596 - binary_accuracy: 0.9918 - val_loss: 0.5839 - val_binary_accuracy: 0.8412\n",
            "Epoch 159/200\n",
            "14/14 [==============================] - 2s 151ms/step - loss: 0.4577 - binary_accuracy: 0.9925 - val_loss: 0.5496 - val_binary_accuracy: 0.9011\n",
            "Epoch 160/200\n",
            "14/14 [==============================] - 2s 151ms/step - loss: 0.4638 - binary_accuracy: 0.9873 - val_loss: 0.6010 - val_binary_accuracy: 0.8042\n",
            "Epoch 161/200\n",
            "14/14 [==============================] - 2s 152ms/step - loss: 0.4596 - binary_accuracy: 0.9927 - val_loss: 0.6144 - val_binary_accuracy: 0.8007\n",
            "Epoch 162/200\n",
            "14/14 [==============================] - 2s 151ms/step - loss: 0.4600 - binary_accuracy: 0.9915 - val_loss: 0.5654 - val_binary_accuracy: 0.8673\n",
            "Epoch 163/200\n",
            "14/14 [==============================] - 2s 152ms/step - loss: 0.4592 - binary_accuracy: 0.9933 - val_loss: 0.6177 - val_binary_accuracy: 0.7719\n",
            "Epoch 164/200\n",
            "14/14 [==============================] - 2s 151ms/step - loss: 0.4589 - binary_accuracy: 0.9912 - val_loss: 0.6950 - val_binary_accuracy: 0.6666\n",
            "Epoch 165/200\n",
            "14/14 [==============================] - 2s 151ms/step - loss: 0.4627 - binary_accuracy: 0.9883 - val_loss: 0.6333 - val_binary_accuracy: 0.7426\n",
            "Epoch 166/200\n",
            "14/14 [==============================] - 2s 151ms/step - loss: 0.4584 - binary_accuracy: 0.9923 - val_loss: 0.5705 - val_binary_accuracy: 0.8544\n",
            "Epoch 167/200\n",
            "14/14 [==============================] - 2s 151ms/step - loss: 0.4578 - binary_accuracy: 0.9934 - val_loss: 0.6633 - val_binary_accuracy: 0.7226\n",
            "Epoch 168/200\n",
            "14/14 [==============================] - 2s 152ms/step - loss: 0.4583 - binary_accuracy: 0.9919 - val_loss: 0.6019 - val_binary_accuracy: 0.8019\n",
            "Epoch 169/200\n",
            "14/14 [==============================] - 2s 151ms/step - loss: 0.4607 - binary_accuracy: 0.9914 - val_loss: 0.7136 - val_binary_accuracy: 0.6507\n",
            "Epoch 170/200\n",
            "14/14 [==============================] - 2s 152ms/step - loss: 0.4606 - binary_accuracy: 0.9908 - val_loss: 0.5714 - val_binary_accuracy: 0.8556\n",
            "Epoch 171/200\n",
            "14/14 [==============================] - 2s 161ms/step - loss: 0.4600 - binary_accuracy: 0.9913 - val_loss: 0.6236 - val_binary_accuracy: 0.7772\n",
            "Epoch 172/200\n",
            "14/14 [==============================] - 2s 152ms/step - loss: 0.4581 - binary_accuracy: 0.9935 - val_loss: 0.6186 - val_binary_accuracy: 0.7810\n",
            "Epoch 173/200\n",
            "14/14 [==============================] - 2s 151ms/step - loss: 0.4596 - binary_accuracy: 0.9910 - val_loss: 0.7230 - val_binary_accuracy: 0.6202\n",
            "Epoch 174/200\n",
            "14/14 [==============================] - 2s 151ms/step - loss: 0.4585 - binary_accuracy: 0.9919 - val_loss: 0.5785 - val_binary_accuracy: 0.8465\n",
            "Epoch 175/200\n",
            "14/14 [==============================] - 2s 161ms/step - loss: 0.4572 - binary_accuracy: 0.9940 - val_loss: 0.5844 - val_binary_accuracy: 0.8439\n",
            "Epoch 176/200\n",
            "14/14 [==============================] - 2s 152ms/step - loss: 0.4617 - binary_accuracy: 0.9903 - val_loss: 0.6934 - val_binary_accuracy: 0.6610\n",
            "Epoch 177/200\n",
            "14/14 [==============================] - 2s 152ms/step - loss: 0.4644 - binary_accuracy: 0.9875 - val_loss: 0.5853 - val_binary_accuracy: 0.8342\n",
            "Epoch 178/200\n",
            "14/14 [==============================] - 2s 161ms/step - loss: 0.4634 - binary_accuracy: 0.9877 - val_loss: 0.5949 - val_binary_accuracy: 0.8139\n",
            "Epoch 179/200\n",
            "14/14 [==============================] - 2s 151ms/step - loss: 0.4620 - binary_accuracy: 0.9898 - val_loss: 0.6117 - val_binary_accuracy: 0.8072\n",
            "Epoch 180/200\n",
            "14/14 [==============================] - 2s 161ms/step - loss: 0.4636 - binary_accuracy: 0.9881 - val_loss: 0.5423 - val_binary_accuracy: 0.9140\n",
            "Epoch 181/200\n",
            "14/14 [==============================] - 2s 152ms/step - loss: 0.4605 - binary_accuracy: 0.9916 - val_loss: 0.5617 - val_binary_accuracy: 0.8788\n",
            "Epoch 182/200\n",
            "14/14 [==============================] - 2s 152ms/step - loss: 0.4608 - binary_accuracy: 0.9906 - val_loss: 0.6832 - val_binary_accuracy: 0.6845\n",
            "Epoch 183/200\n",
            "14/14 [==============================] - 2s 151ms/step - loss: 0.4615 - binary_accuracy: 0.9905 - val_loss: 0.8076 - val_binary_accuracy: 0.5577\n",
            "Epoch 184/200\n",
            "14/14 [==============================] - 2s 152ms/step - loss: 0.4650 - binary_accuracy: 0.9872 - val_loss: 0.5745 - val_binary_accuracy: 0.8603\n",
            "Epoch 185/200\n",
            "14/14 [==============================] - 2s 150ms/step - loss: 0.4633 - binary_accuracy: 0.9883 - val_loss: 0.5296 - val_binary_accuracy: 0.9407\n",
            "Epoch 186/200\n",
            "14/14 [==============================] - 2s 163ms/step - loss: 0.4595 - binary_accuracy: 0.9932 - val_loss: 0.5447 - val_binary_accuracy: 0.9061\n",
            "Epoch 187/200\n",
            "14/14 [==============================] - 2s 161ms/step - loss: 0.4600 - binary_accuracy: 0.9911 - val_loss: 0.5623 - val_binary_accuracy: 0.8764\n",
            "Epoch 188/200\n",
            "14/14 [==============================] - 2s 161ms/step - loss: 0.4584 - binary_accuracy: 0.9924 - val_loss: 0.6299 - val_binary_accuracy: 0.7537\n",
            "Epoch 189/200\n",
            "14/14 [==============================] - 2s 151ms/step - loss: 0.4602 - binary_accuracy: 0.9922 - val_loss: 0.5905 - val_binary_accuracy: 0.8268\n",
            "Epoch 190/200\n",
            "14/14 [==============================] - 2s 151ms/step - loss: 0.4616 - binary_accuracy: 0.9890 - val_loss: 0.6118 - val_binary_accuracy: 0.7743\n",
            "Epoch 191/200\n",
            "14/14 [==============================] - 2s 152ms/step - loss: 0.4605 - binary_accuracy: 0.9908 - val_loss: 0.5853 - val_binary_accuracy: 0.8336\n",
            "Epoch 192/200\n",
            "14/14 [==============================] - 2s 151ms/step - loss: 0.4588 - binary_accuracy: 0.9913 - val_loss: 0.7079 - val_binary_accuracy: 0.6613\n",
            "Epoch 193/200\n",
            "14/14 [==============================] - 2s 152ms/step - loss: 0.4575 - binary_accuracy: 0.9927 - val_loss: 0.7512 - val_binary_accuracy: 0.6070\n",
            "Epoch 194/200\n",
            "14/14 [==============================] - 2s 152ms/step - loss: 0.4604 - binary_accuracy: 0.9905 - val_loss: 0.6102 - val_binary_accuracy: 0.7942\n",
            "Epoch 195/200\n",
            "14/14 [==============================] - 2s 151ms/step - loss: 0.4594 - binary_accuracy: 0.9918 - val_loss: 0.5741 - val_binary_accuracy: 0.8574\n",
            "Epoch 196/200\n",
            "14/14 [==============================] - 2s 154ms/step - loss: 0.4568 - binary_accuracy: 0.9938 - val_loss: 0.6830 - val_binary_accuracy: 0.6839\n",
            "Epoch 197/200\n",
            "14/14 [==============================] - 2s 156ms/step - loss: 0.4557 - binary_accuracy: 0.9935 - val_loss: 0.5832 - val_binary_accuracy: 0.8324\n",
            "Epoch 198/200\n",
            "14/14 [==============================] - 2s 151ms/step - loss: 0.4551 - binary_accuracy: 0.9951 - val_loss: 0.6648 - val_binary_accuracy: 0.7088\n",
            "Epoch 199/200\n",
            "14/14 [==============================] - 2s 151ms/step - loss: 0.4588 - binary_accuracy: 0.9929 - val_loss: 0.5939 - val_binary_accuracy: 0.8133\n",
            "Epoch 200/200\n",
            "14/14 [==============================] - 2s 152ms/step - loss: 0.4573 - binary_accuracy: 0.9934 - val_loss: 0.7529 - val_binary_accuracy: 0.6178\n"
          ]
        }
      ],
      "source": [
        "# Re-train the model\n",
        "# Compile and fit the model\n",
        "modelLoaded.compile(loss=tf.keras.losses.BinaryCrossentropy(label_smoothing=0.2), optimizer=tf.keras.optimizers.Adam(learning_rate=0.001), metrics=[tf.keras.metrics.BinaryAccuracy()])\n",
        "historyRetrain=modelLoaded.fit(xApneaECGTrain, yApneaECGTrain, epochs=200, batch_size=1024, validation_split=0.2, verbose=1)"
      ]
    },
    {
      "cell_type": "code",
      "execution_count": null,
      "metadata": {
        "id": "PdYOPC1kHvO5"
      },
      "outputs": [],
      "source": []
    }
  ],
  "metadata": {
    "accelerator": "GPU",
    "colab": {
      "machine_shape": "hm",
      "provenance": [],
      "authorship_tag": "ABX9TyP0FKbUKTQbqOifxVvn/a02",
      "include_colab_link": true
    },
    "gpuClass": "premium",
    "kernelspec": {
      "display_name": "Python 3",
      "name": "python3"
    },
    "language_info": {
      "name": "python"
    }
  },
  "nbformat": 4,
  "nbformat_minor": 0
}