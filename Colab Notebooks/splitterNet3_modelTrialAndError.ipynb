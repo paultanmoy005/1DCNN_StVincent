{
  "nbformat": 4,
  "nbformat_minor": 0,
  "metadata": {
    "colab": {
      "provenance": [],
      "authorship_tag": "ABX9TyMbskrsuJ7jcpXm3f76oLUo",
      "include_colab_link": true
    },
    "kernelspec": {
      "name": "python3",
      "display_name": "Python 3"
    },
    "language_info": {
      "name": "python"
    }
  },
  "cells": [
    {
      "cell_type": "markdown",
      "metadata": {
        "id": "view-in-github",
        "colab_type": "text"
      },
      "source": [
        "<a href=\"https://colab.research.google.com/github/paultanmoy005/1DCNN_StVincent/blob/main/Colab%20Notebooks/splitterNet3_modelTrialAndError.ipynb\" target=\"_parent\"><img src=\"https://colab.research.google.com/assets/colab-badge.svg\" alt=\"Open In Colab\"/></a>"
      ]
    },
    {
      "cell_type": "code",
      "execution_count": null,
      "metadata": {
        "id": "vCJxQdsy-XXg"
      },
      "outputs": [],
      "source": [
        "kernel = np.array([[[1,0]],[[0,1]]])\n",
        "#define the model\n",
        "model = Sequential()\n",
        "model.add(BatchNormalization(input_shape=(xTrainFinal.shape[1],xTrainFinal.shape[2])))\n",
        "model.add(Conv1D(2, (2), padding='valid', strides = 2, activation=None, use_bias=False, weights=[kernel], trainable=False))\n",
        "model.add(Conv1D(100, kernel_size=(10),strides=2))\n",
        "model.add(Activation(\"relu\"))\n",
        "model.add(MaxPooling1D(pool_size=(2),strides=2))\n",
        "model.add(Conv1D(2, (2), padding='valid', strides = 2, activation=None, use_bias=False, weights=[np.tile(kernel,(1,100,1))], trainable=False))\n",
        "model.add(Conv1D(75, (3)))\n",
        "model.add(MaxPooling1D(pool_size=(2),strides=1))\n",
        "model.add(Activation(\"relu\"))\n",
        "model.add(Conv1D(2, (2), padding='valid', strides = 2, activation=None, use_bias=False, weights=[np.tile(kernel,(1,75,1))], trainable=False))\n",
        "model.add(Conv1D(75, (5)))\n",
        "model.add(MaxPooling1D(pool_size=(2),strides=1))\n",
        "model.add(Activation(\"relu\"))\n",
        "model.add(Conv1D(2, (2), padding='valid', strides = 2, activation=None, use_bias=False, weights=[np.tile(kernel,(1,75,1))], trainable=False))\n",
        "#model.add(Conv1D(10, (5)))\n",
        "model.add(MaxPooling1D(pool_size=(2)))\n",
        "model.add(Activation(\"relu\"))\n",
        "model.add(BatchNormalization())\n",
        "model.add(Flatten())\n",
        "#model.add(Dropout(0.3))\n",
        "model.add(BatchNormalization())\n",
        "#model.add(Dense(2, kernel_initializer='he_uniform', activity_regularizer = regularizers.L2(0.1), kernel_regularizer= regularizers.L2(0.1), bias_regularizer= regularizers.L2(0.1), activation='softmax'))\n",
        "model.add(Dense(2, kernel_initializer='he_uniform', activation='softmax'))\n",
        "model.summary()\n"
      ]
    },
    {
      "cell_type": "code",
      "source": [],
      "metadata": {
        "id": "anrnDyivCxMV"
      },
      "execution_count": null,
      "outputs": []
    }
  ]
}